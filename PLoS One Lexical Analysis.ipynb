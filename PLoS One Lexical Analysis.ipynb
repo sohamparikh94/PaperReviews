{
 "cells": [
  {
   "cell_type": "code",
   "execution_count": 53,
   "metadata": {},
   "outputs": [],
   "source": [
    "import json\n",
    "import spacy\n",
    "import string\n",
    "import numpy as np\n",
    "from tqdm import tqdm_notebook as tqdm\n",
    "from collections import Counter\n",
    "%matplotlib inline\n",
    "import matplotlib.pyplot as plt"
   ]
  },
  {
   "cell_type": "code",
   "execution_count": 2,
   "metadata": {},
   "outputs": [],
   "source": [
    "nlp = spacy.load('en')\n",
    "nlp_light = spacy.load('en', disable=['parser', 'tagger', 'ner'])\n",
    "stop_words = spacy.lang.en.stop_words.STOP_WORDS\n",
    "alphabet = string.ascii_lowercase"
   ]
  },
  {
   "cell_type": "code",
   "execution_count": 95,
   "metadata": {},
   "outputs": [],
   "source": [
    "with open('../data/review_decisions.json') as f:\n",
    "    data = json.load(f)"
   ]
  },
  {
   "cell_type": "markdown",
   "metadata": {},
   "source": [
    "## Defining Helper Functions"
   ]
  },
  {
   "cell_type": "code",
   "execution_count": 108,
   "metadata": {},
   "outputs": [],
   "source": [
    "def get_review_rating_pairs(data):\n",
    "\n",
    "    review_rating_pairs = dict()\n",
    "    for doc_id in data:\n",
    "        if('revisions' in data[doc_id]):\n",
    "            for revision in data[doc_id]['revisions']:\n",
    "                if('reviews' in data[doc_id]['revisions'][revision]):\n",
    "                    for review in data[doc_id]['revisions'][revision]['reviews']:\n",
    "                        if('text' in data[doc_id]['revisions'][revision]['reviews'][review] and 'decision' in data[doc_id]['revisions'][revision]['reviews'][review]):\n",
    "                            if(len(data[doc_id]['revisions'][revision]['reviews'][review]['text']) > 0):\n",
    "                                decision = data[doc_id]['revisions'][revision]['reviews'][review]['decision']\n",
    "                                text = data[doc_id]['revisions'][revision]['reviews'][review]['text']\n",
    "                                if(decision not in review_rating_pairs):\n",
    "                                    review_rating_pairs[decision] = list()\n",
    "                                review_rating_pairs[decision].append(text)\n",
    "    \n",
    "    return review_rating_pairs"
   ]
  },
  {
   "cell_type": "code",
   "execution_count": 84,
   "metadata": {},
   "outputs": [],
   "source": [
    "def forbidden(word):\n",
    "\n",
    "    if(word.lower() in stop_words):\n",
    "        return True\n",
    "    else:\n",
    "        for character in word.lower():\n",
    "            if(character in alphabet):\n",
    "                return False\n",
    "        return True\n",
    "\n",
    "    return False"
   ]
  },
  {
   "cell_type": "code",
   "execution_count": 80,
   "metadata": {},
   "outputs": [],
   "source": [
    "def get_classwise_word_counts(data):\n",
    "    word_counts = dict()\n",
    "    for decision in data:\n",
    "        word_counts[decision] = Counter()\n",
    "        for text in data[decision]:\n",
    "            for token in nlp_light(text):\n",
    "                if(not forbidden(token.text)):\n",
    "                    word_counts[decision][token.text] += 1\n",
    "\n",
    "    return word_counts"
   ]
  },
  {
   "cell_type": "code",
   "execution_count": 81,
   "metadata": {},
   "outputs": [],
   "source": [
    "def get_classwise_lengths(data):\n",
    "\n",
    "    lengths = dict()\n",
    "    for decision in data:\n",
    "        lengths[decision] = list()\n",
    "        for text in data[decision]:\n",
    "            lengths[decision].append(len(nlp_light(text)))\n",
    "\n",
    "    return lengths"
   ]
  },
  {
   "cell_type": "code",
   "execution_count": 112,
   "metadata": {
    "scrolled": true
   },
   "outputs": [],
   "source": [
    "review_rating_pairs = get_review_rating_pairs(data)"
   ]
  },
  {
   "cell_type": "markdown",
   "metadata": {},
   "source": [
    "## General Statistics"
   ]
  },
  {
   "cell_type": "code",
   "execution_count": 117,
   "metadata": {},
   "outputs": [
    {
     "data": {
      "text/plain": [
       "\"Major concerns: 1. The result that in vivo MRI can be used as a diagnostic tool to determine the time of onset of chronic inflammation is not novel 2. All images provide in the paper are poor and difficult to idendify details, especially in the histological sections. 3. There is no evidence for the inflammation in the injured spinal cord. Some immunohistochimical studies will be helpful. 4. The author mentioned that 'quantitative data of inflammation' several time in the manuscript, but inflammation in the spinal cord is not clearly shown. 5. The experimental design is not clear. The postinjury examination for MRI and histology are all in different time points. \""
      ]
     },
     "execution_count": 117,
     "metadata": {},
     "output_type": "execute_result"
    }
   ],
   "source": [
    "review_rating_pairs['Reject'][0]"
   ]
  },
  {
   "cell_type": "code",
   "execution_count": 118,
   "metadata": {},
   "outputs": [
    {
     "data": {
      "text/plain": [
       "3834"
      ]
     },
     "execution_count": 118,
     "metadata": {},
     "output_type": "execute_result"
    }
   ],
   "source": [
    "len(review_rating_pairs['Reject'])"
   ]
  },
  {
   "cell_type": "code",
   "execution_count": 119,
   "metadata": {},
   "outputs": [
    {
     "data": {
      "text/plain": [
       "6644"
      ]
     },
     "execution_count": 119,
     "metadata": {},
     "output_type": "execute_result"
    }
   ],
   "source": [
    "len(review_rating_pairs['Minor Revision'])"
   ]
  },
  {
   "cell_type": "code",
   "execution_count": 120,
   "metadata": {},
   "outputs": [
    {
     "data": {
      "text/plain": [
       "7103"
      ]
     },
     "execution_count": 120,
     "metadata": {},
     "output_type": "execute_result"
    }
   ],
   "source": [
    "len(review_rating_pairs['Major Revision'])"
   ]
  },
  {
   "cell_type": "code",
   "execution_count": 152,
   "metadata": {
    "scrolled": true
   },
   "outputs": [],
   "source": [
    "total_reviews = 0\n",
    "r_d = 0\n",
    "r_no_d = 0\n",
    "no_r_no_d = 0\n",
    "no_r_d = 0\n",
    "for doc_id in data:\n",
    "    for revision in data[doc_id]['revisions']:\n",
    "        if('reviews' in data[doc_id]['revisions'][revision]):\n",
    "            for review in data[doc_id]['revisions'][revision]['reviews']:\n",
    "                total_reviews += 1\n",
    "                review_obj = data[doc_id]['revisions'][revision]['reviews'][review]\n",
    "                if('text' in review_obj and 'decision' not in review_obj):\n",
    "                    review = review_obj['text']\n",
    "                    if(len(review) > 0):\n",
    "                        r_no_d += 1\n",
    "                    else:\n",
    "                        no_r_no_d += 1\n",
    "\n",
    "                elif('text' not in review_obj and 'decision' in review_obj):\n",
    "                    no_r_d += 1\n",
    "                elif('text' in review_obj and 'decision' in review_obj):\n",
    "                    review = review_obj['text']\n",
    "                    empty_reviews_without_ids += 1\n",
    "                    if(len(review) > 0):\n",
    "                        r_d += 1\n",
    "                    else:\n",
    "                        no_r_d += 1"
   ]
  },
  {
   "cell_type": "code",
   "execution_count": 157,
   "metadata": {},
   "outputs": [
    {
     "data": {
      "text/plain": [
       "32381"
      ]
     },
     "execution_count": 157,
     "metadata": {},
     "output_type": "execute_result"
    }
   ],
   "source": [
    "no_r_d"
   ]
  },
  {
   "cell_type": "markdown",
   "metadata": {},
   "source": [
    "## Lexical Analysis"
   ]
  },
  {
   "cell_type": "code",
   "execution_count": 23,
   "metadata": {
    "scrolled": true
   },
   "outputs": [],
   "source": [
    "word_counts = get_classwise_word_counts(review_rating_pairs)"
   ]
  },
  {
   "cell_type": "code",
   "execution_count": 24,
   "metadata": {
    "scrolled": true
   },
   "outputs": [
    {
     "data": {
      "text/plain": [
       "[('authors', 4576),\n",
       " ('manuscript', 2800),\n",
       " ('paper', 1773),\n",
       " ('addressed', 1517),\n",
       " ('comments', 1504),\n",
       " ('data', 1276),\n",
       " ('study', 1264),\n",
       " ('concerns', 1230),\n",
       " ('publication', 1107),\n",
       " ('results', 1101),\n",
       " ('revised', 817),\n",
       " ('line', 736),\n",
       " ('previous', 660),\n",
       " ('improved', 642),\n",
       " ('et', 614),\n",
       " ('al', 609),\n",
       " ('interesting', 601),\n",
       " ('cells', 583),\n",
       " ('work', 580),\n",
       " ('think', 552)]"
      ]
     },
     "execution_count": 24,
     "metadata": {},
     "output_type": "execute_result"
    }
   ],
   "source": [
    "word_counts['Accept'].most_common(20)"
   ]
  },
  {
   "cell_type": "code",
   "execution_count": 25,
   "metadata": {},
   "outputs": [
    {
     "data": {
      "text/plain": [
       "[('authors', 15304),\n",
       " ('data', 7479),\n",
       " ('study', 6772),\n",
       " ('results', 5802),\n",
       " ('manuscript', 4617),\n",
       " ('cells', 4266),\n",
       " ('paper', 4195),\n",
       " ('different', 3795),\n",
       " ('analysis', 3505),\n",
       " ('et', 3417),\n",
       " ('al', 3390),\n",
       " ('effect', 3127),\n",
       " ('effects', 2868),\n",
       " ('line', 2855),\n",
       " ('Figure', 2626),\n",
       " ('expression', 2623),\n",
       " ('time', 2591),\n",
       " ('cell', 2514),\n",
       " ('brain', 2509),\n",
       " ('use', 2436)]"
      ]
     },
     "execution_count": 25,
     "metadata": {},
     "output_type": "execute_result"
    }
   ],
   "source": [
    "word_counts['Reject'].most_common(20)"
   ]
  },
  {
   "cell_type": "code",
   "execution_count": 27,
   "metadata": {},
   "outputs": [
    {
     "data": {
      "text/plain": [
       "[('authors', 19671),\n",
       " ('data', 8106),\n",
       " ('study', 7597),\n",
       " ('line', 7481),\n",
       " ('results', 7305),\n",
       " ('manuscript', 6646),\n",
       " ('paper', 6273),\n",
       " ('cells', 4733),\n",
       " ('Figure', 4387),\n",
       " ('different', 4377),\n",
       " ('Page', 4173),\n",
       " ('et', 4043),\n",
       " ('al', 4022),\n",
       " ('effect', 3586),\n",
       " ('discussion', 3526),\n",
       " ('analysis', 3412),\n",
       " ('page', 3315),\n",
       " ('use', 3276),\n",
       " ('expression', 3201),\n",
       " ('effects', 3199)]"
      ]
     },
     "execution_count": 27,
     "metadata": {},
     "output_type": "execute_result"
    }
   ],
   "source": [
    "word_counts['Minor Revision'].most_common(20)"
   ]
  },
  {
   "cell_type": "code",
   "execution_count": 28,
   "metadata": {},
   "outputs": [
    {
     "data": {
      "text/plain": [
       "[('authors', 33368),\n",
       " ('data', 15374),\n",
       " ('results', 13360),\n",
       " ('study', 12939),\n",
       " ('manuscript', 9468),\n",
       " ('line', 8614),\n",
       " ('cells', 8023),\n",
       " ('paper', 7837),\n",
       " ('different', 7802),\n",
       " ('analysis', 7650),\n",
       " ('et', 7341),\n",
       " ('al', 7322),\n",
       " ('Figure', 6968),\n",
       " ('effect', 6434),\n",
       " ('effects', 6055),\n",
       " ('time', 5645),\n",
       " ('Page', 5489),\n",
       " ('expression', 5423),\n",
       " ('use', 5349),\n",
       " ('brain', 5280)]"
      ]
     },
     "execution_count": 28,
     "metadata": {},
     "output_type": "execute_result"
    }
   ],
   "source": [
    "word_counts['Major Revision'].most_common(20)"
   ]
  },
  {
   "cell_type": "markdown",
   "metadata": {},
   "source": [
    "## Length"
   ]
  },
  {
   "cell_type": "code",
   "execution_count": 29,
   "metadata": {},
   "outputs": [],
   "source": [
    "lengths = get_classwise_lengths(review_rating_pairs)"
   ]
  },
  {
   "cell_type": "code",
   "execution_count": 31,
   "metadata": {},
   "outputs": [
    {
     "data": {
      "text/plain": [
       "605.5576421491915"
      ]
     },
     "execution_count": 31,
     "metadata": {},
     "output_type": "execute_result"
    }
   ],
   "source": [
    "np.mean(lengths['Reject'])"
   ]
  },
  {
   "cell_type": "code",
   "execution_count": 32,
   "metadata": {},
   "outputs": [
    {
     "data": {
      "text/plain": [
       "98.48509828788839"
      ]
     },
     "execution_count": 32,
     "metadata": {},
     "output_type": "execute_result"
    }
   ],
   "source": [
    "np.mean(lengths['Accept'])"
   ]
  },
  {
   "cell_type": "code",
   "execution_count": 33,
   "metadata": {},
   "outputs": [
    {
     "data": {
      "text/plain": [
       "728.464451640152"
      ]
     },
     "execution_count": 33,
     "metadata": {},
     "output_type": "execute_result"
    }
   ],
   "source": [
    "np.mean(lengths['Major Revision'])"
   ]
  },
  {
   "cell_type": "code",
   "execution_count": 34,
   "metadata": {},
   "outputs": [
    {
     "data": {
      "text/plain": [
       "470.5680313064419"
      ]
     },
     "execution_count": 34,
     "metadata": {},
     "output_type": "execute_result"
    }
   ],
   "source": [
    "np.mean(lengths['Minor Revision'])"
   ]
  },
  {
   "cell_type": "code",
   "execution_count": 49,
   "metadata": {},
   "outputs": [
    {
     "data": {
      "text/plain": [
       "152.27603573396604"
      ]
     },
     "execution_count": 49,
     "metadata": {},
     "output_type": "execute_result"
    }
   ],
   "source": [
    "np.std(lengths['Accept'])"
   ]
  },
  {
   "cell_type": "code",
   "execution_count": 50,
   "metadata": {},
   "outputs": [
    {
     "data": {
      "text/plain": [
       "473.5232359913895"
      ]
     },
     "execution_count": 50,
     "metadata": {},
     "output_type": "execute_result"
    }
   ],
   "source": [
    "np.std(lengths['Reject'])"
   ]
  },
  {
   "cell_type": "code",
   "execution_count": 51,
   "metadata": {},
   "outputs": [
    {
     "data": {
      "text/plain": [
       "513.4513671794081"
      ]
     },
     "execution_count": 51,
     "metadata": {},
     "output_type": "execute_result"
    }
   ],
   "source": [
    "np.std(lengths['Major Revision'])"
   ]
  },
  {
   "cell_type": "code",
   "execution_count": 52,
   "metadata": {},
   "outputs": [
    {
     "data": {
      "text/plain": [
       "365.4278648659776"
      ]
     },
     "execution_count": 52,
     "metadata": {},
     "output_type": "execute_result"
    }
   ],
   "source": [
    "np.std(lengths['Minor Revision'])"
   ]
  },
  {
   "cell_type": "code",
   "execution_count": 66,
   "metadata": {},
   "outputs": [
    {
     "data": {
      "text/plain": [
       "Text(0.5,1,'Accept')"
      ]
     },
     "execution_count": 66,
     "metadata": {},
     "output_type": "execute_result"
    },
    {
     "data": {
      "image/png": "[encoded data removed]",
      "text/plain": [
       "<Figure size 432x288 with 1 Axes>"
      ]
     },
     "metadata": {
      "needs_background": "light"
     },
     "output_type": "display_data"
    }
   ],
   "source": [
    "plt.hist(lengths['Accept'], bins=10, range=(0,1000))\n",
    "plt.xlabel('Review Length')\n",
    "plt.ylabel('No. of Reviews')\n",
    "plt.title('Accept')"
   ]
  },
  {
   "cell_type": "code",
   "execution_count": 67,
   "metadata": {},
   "outputs": [
    {
     "data": {
      "text/plain": [
       "Text(0.5,1,'Reject')"
      ]
     },
     "execution_count": 67,
     "metadata": {},
     "output_type": "execute_result"
    },
    {
     "data": {
      "image/png": "[encoded data removed]",
      "text/plain": [
       "<Figure size 432x288 with 1 Axes>"
      ]
     },
     "metadata": {
      "needs_background": "light"
     },
     "output_type": "display_data"
    }
   ],
   "source": [
    "plt.hist(lengths['Reject'], bins=10, range=(0,1000))\n",
    "plt.xlabel('Review Length')\n",
    "plt.ylabel('No. of Reviews')\n",
    "plt.title('Reject')"
   ]
  },
  {
   "cell_type": "code",
   "execution_count": 68,
   "metadata": {},
   "outputs": [
    {
     "data": {
      "text/plain": [
       "Text(0.5,1,'Major Revision')"
      ]
     },
     "execution_count": 68,
     "metadata": {},
     "output_type": "execute_result"
    },
    {
     "data": {
      "image/png": "[encoded data removed]",
      "text/plain": [
       "<Figure size 432x288 with 1 Axes>"
      ]
     },
     "metadata": {
      "needs_background": "light"
     },
     "output_type": "display_data"
    }
   ],
   "source": [
    "plt.hist(lengths['Major Revision'], bins=10, range=(0,1000))\n",
    "plt.xlabel('Review Length')\n",
    "plt.ylabel('No. of Reviews')\n",
    "plt.title('Major Revision')"
   ]
  },
  {
   "cell_type": "code",
   "execution_count": 69,
   "metadata": {},
   "outputs": [
    {
     "data": {
      "text/plain": [
       "Text(0.5,1,'Minor Revision')"
      ]
     },
     "execution_count": 69,
     "metadata": {},
     "output_type": "execute_result"
    },
    {
     "data": {
      "image/png": "[encoded data removed]",
      "text/plain": [
       "<Figure size 432x288 with 1 Axes>"
      ]
     },
     "metadata": {
      "needs_background": "light"
     },
     "output_type": "display_data"
    }
   ],
   "source": [
    "plt.hist(lengths['Minor Revision'], bins=10, range=(0,1000))\n",
    "plt.xlabel('Review Length')\n",
    "plt.ylabel('No. of Reviews')\n",
    "plt.title('Minor Revision')"
   ]
  },
  {
   "cell_type": "markdown",
   "metadata": {},
   "source": [
    "## Group by Revision"
   ]
  },
  {
   "cell_type": "code",
   "execution_count": 72,
   "metadata": {},
   "outputs": [
    {
     "data": {
      "text/plain": [
       "{'54221': {'text': \"Major concerns: 1. The result that in vivo MRI can be used as a diagnostic tool to determine the time of onset of chronic inflammation is not novel 2. All images provide in the paper are poor and difficult to idendify details, especially in the histological sections. 3. There is no evidence for the inflammation in the injured spinal cord. Some immunohistochimical studies will be helpful. 4. The author mentioned that 'quantitative data of inflammation' several time in the manuscript, but inflammation in the spinal cord is not clearly shown. 5. The experimental design is not clear. The postinjury examination for MRI and histology are all in different time points. \",\n",
       "  'decision': 'Reject'},\n",
       " '53383': {'text': \"This paper 'In Vivo MRI View of Chronic Inflammation in Injured Rat Spinal Cord: Onset, Progression and Effective Intervention' provided the T2-weighted sagittal images of either untreated or irradiated severed rat spinal cords from day 5 until 4 months postinjury. Quantitative analysis indicates that the inflammation grew in size with time postinjury, and that radiotherapy significantly reduced it. The results suggested that in vivo MRI could be used as a diagnostic tool to determine the time of onset of chronic inflammation in human spinal cord injury, and also to assess whether any available therapeutic strategies are effective in reducing/preventing this pathology. The conclusion of this study is reasonable and not new. The author can not give any direct evidences to show the relationship between the MRI hyperintense signal and the histopathological characteristics of chronic inflammation in injured spinal cord. The authors also could not provide the data to show the improvement of motor function recovery after irradiated therapy even the irradiated injured cords had smaller cavitation. In addition, the thinon staining used in this paper is not suitable to evaluate the state of chronic inflammation postinjury. As we know, the inflammation is a very important pathological process in spinal cord injury. The roles of inflammation, including chronic inflammation are quite controversy in SCI. For example, innate and adoptive immune responses are believed to have benefits in repairing injured spinal cord at late phase. This reviewer, therefore, suggests rejection of this paper. \",\n",
       "  'decision': 'Reject'},\n",
       " 'combined_decision': 'Reject'}"
      ]
     },
     "execution_count": 72,
     "metadata": {},
     "output_type": "execute_result"
    }
   ],
   "source": []
  },
  {
   "cell_type": "code",
   "execution_count": null,
   "metadata": {},
   "outputs": [],
   "source": []
  }
 ],
 "metadata": {
  "kernelspec": {
   "display_name": "Python 3",
   "language": "python",
   "name": "python3"
  },
  "language_info": {
   "codemirror_mode": {
    "name": "ipython",
    "version": 3
   },
   "file_extension": ".py",
   "mimetype": "text/x-python",
   "name": "python",
   "nbconvert_exporter": "python",
   "pygments_lexer": "ipython3",
   "version": "3.6.8"
  }
 },
 "nbformat": 4,
 "nbformat_minor": 2
}
