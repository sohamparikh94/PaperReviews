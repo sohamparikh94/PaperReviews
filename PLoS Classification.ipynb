{
 "cells": [
  {
   "cell_type": "code",
   "execution_count": 263,
   "metadata": {},
   "outputs": [],
   "source": [
    "import json\n",
    "import spacy\n",
    "import string\n",
    "import random\n",
    "import numpy as np\n",
    "import pickle as pkl\n",
    "from tqdm import tqdm_notebook as tqdm\n",
    "from collections import Counter\n",
    "%matplotlib inline\n",
    "import matplotlib.pyplot as plt\n",
    "from sklearn.feature_extraction.text import CountVectorizer\n",
    "from classifier_utils import ClassifierUtils\n",
    "from sklearn.naive_bayes import MultinomialNB\n",
    "from sklearn.linear_model import LogisticRegression\n",
    "from sklearn.ensemble import RandomForestClassifier\n",
    "from sklearn.metrics import *\n",
    "from wordcloud import WordCloud, STOPWORDS, ImageColorGenerator\n",
    "import importlib\n",
    "import sklearn\n",
    "from spacy.lang.en.stop_words import STOP_WORDS"
   ]
  },
  {
   "cell_type": "code",
   "execution_count": 3,
   "metadata": {},
   "outputs": [],
   "source": [
    "nlp = spacy.load('en')\n",
    "nlp_light = spacy.load('en', disable=['parser', 'tagger', 'ner'])\n",
    "stop_words = spacy.lang.en.stop_words.STOP_WORDS\n",
    "alphabet = string.ascii_lowercase\n",
    "clf_utils = ClassifierUtils()"
   ]
  },
  {
   "cell_type": "code",
   "execution_count": 4,
   "metadata": {},
   "outputs": [],
   "source": [
    "with open('../data/review_decisions.json') as f:\n",
    "    data = json.load(f)"
   ]
  },
  {
   "cell_type": "markdown",
   "metadata": {},
   "source": [
    "## Group by Revision"
   ]
  },
  {
   "cell_type": "code",
   "execution_count": 5,
   "metadata": {},
   "outputs": [],
   "source": [
    "data_by_revision = dict()\n",
    "for doc_id in data:\n",
    "    if('revisions') in data[doc_id]:\n",
    "        for revision in data[doc_id]['revisions']:\n",
    "            if(revision not in data_by_revision):\n",
    "                data_by_revision[revision] = dict()\n",
    "            if('reviews' in data[doc_id]['revisions'][revision]):\n",
    "                for review in data[doc_id]['revisions'][revision]['reviews']:\n",
    "                    review_obj = data[doc_id]['revisions'][revision]['reviews'][review]\n",
    "                    if('text' in review_obj and 'decision' in review_obj):\n",
    "                        if(len(review_obj['text'].strip()) > 0 and len(review_obj['decision']) > 0):\n",
    "                            if(review_obj['decision'] not in data_by_revision[revision]):\n",
    "                                data_by_revision[revision][review_obj['decision']] = list()\n",
    "                            data_by_revision[revision][review_obj['decision']].append(review_obj['text'])"
   ]
  },
  {
   "cell_type": "code",
   "execution_count": 139,
   "metadata": {},
   "outputs": [],
   "source": [
    "documents = data_by_revision['0']['Reject'] + data_by_revision['0']['Accept'] + data_by_revision['0']['Major Revision'] + data_by_revision['0']['Minor Revision']\n",
    "labels = [0]*len(data_by_revision['0']['Reject']) + [1]*len(data_by_revision['0']['Accept']) + [2]*len(data_by_revision['0']['Major Revision']) + [3]*len(data_by_revision['0']['Minor Revision'])"
   ]
  },
  {
   "cell_type": "code",
   "execution_count": 7,
   "metadata": {
    "scrolled": false
   },
   "outputs": [
    {
     "data": {
      "application/vnd.jupyter.widget-view+json": {
       "model_id": "ac1e40605ca640339941e967900229bb",
       "version_major": 2,
       "version_minor": 0
      },
      "text/plain": [
       "HBox(children=(IntProgress(value=0, max=15434), HTML(value='')))"
      ]
     },
     "metadata": {},
     "output_type": "display_data"
    },
    {
     "name": "stdout",
     "output_type": "stream",
     "text": [
      "\n"
     ]
    }
   ],
   "source": [
    "token_counts = dict()\n",
    "doc_counts = dict()\n",
    "all_token_counts = Counter()\n",
    "all_doc_counts = Counter()\n",
    "\n",
    "\n",
    "token_counts[0] = Counter()\n",
    "token_counts[1] = Counter()\n",
    "token_counts[2] = Counter()\n",
    "token_counts[3] = Counter()\n",
    "doc_counts[0] = Counter()\n",
    "doc_counts[1] = Counter()\n",
    "doc_counts[2] = Counter()\n",
    "doc_counts[3] = Counter()\n",
    "\n",
    "\n",
    "for idx, document in enumerate(tqdm(documents)):\n",
    "    tokenized_doc = [token.text for token in nlp_light(document.lower())]\n",
    "    current_counter = Counter()\n",
    "    for token in tokenized_doc:\n",
    "        token_counts[labels[idx]][token] += 1\n",
    "        all_token_counts[token] += 1\n",
    "        if(not current_counter[token]):\n",
    "            doc_counts[labels[idx]][token] += 1\n",
    "            all_doc_counts[token] += 1\n",
    "        current_counter[token] += 1"
   ]
  },
  {
   "cell_type": "markdown",
   "metadata": {},
   "source": [
    "## Naive Bayes Classification"
   ]
  },
  {
   "cell_type": "code",
   "execution_count": null,
   "metadata": {
    "scrolled": true
   },
   "outputs": [],
   "source": [
    "all_metrics_nb = list()\n",
    "for _ in range(10):\n",
    "    metrics = clf_utils.cross_validate(documents, labels)\n",
    "    all_metrics_nb.append(metrics)"
   ]
  },
  {
   "cell_type": "code",
   "execution_count": null,
   "metadata": {
    "scrolled": true
   },
   "outputs": [],
   "source": [
    "print(\"Reject\")\n",
    "print(np.mean([np.mean([all_metrics_nb[idx2][idx]['0']['precision'] for idx in range(5)]) for idx2 in range(10)]))\n",
    "print(np.mean([np.mean([all_metrics_nb[idx2][idx]['0']['recall'] for idx in range(5)]) for idx2 in range(10)]))\n",
    "print(np.mean([np.mean([all_metrics_nb[idx2][idx]['0']['f1-score'] for idx in range(5)]) for idx2 in range(10)]))\n",
    "print(\"Accept\")\n",
    "print(np.mean([np.mean([all_metrics_nb[idx2][idx]['1']['precision'] for idx in range(5)]) for idx2 in range(10)]))\n",
    "print(np.mean([np.mean([all_metrics_nb[idx2][idx]['1']['recall'] for idx in range(5)]) for idx2 in range(10)]))\n",
    "print(np.mean([np.mean([all_metrics_nb[idx2][idx]['1']['f1-score'] for idx in range(5)]) for idx2 in range(10)]))\n",
    "print(\"Major Revision\")\n",
    "print(np.mean([np.mean([all_metrics_nb[idx2][idx]['2']['precision'] for idx in range(5)]) for idx2 in range(10)]))\n",
    "print(np.mean([np.mean([all_metrics_nb[idx2][idx]['2']['recall'] for idx in range(5)]) for idx2 in range(10)]))\n",
    "print(np.mean([np.mean([all_metrics_nb[idx2][idx]['2']['f1-score'] for idx in range(5)]) for idx2 in range(10)]))\n",
    "print(\"Minor Revision\")\n",
    "print(np.mean([np.mean([all_metrics_nb[idx2][idx]['3']['precision'] for idx in range(5)]) for idx2 in range(10)]))\n",
    "print(np.mean([np.mean([all_metrics_nb[idx2][idx]['3']['recall'] for idx in range(5)]) for idx2 in range(10)]))\n",
    "print(np.mean([np.mean([all_metrics_nb[idx2][idx]['3']['f1-score'] for idx in range(5)]) for idx2 in range(10)]))"
   ]
  },
  {
   "cell_type": "code",
   "execution_count": null,
   "metadata": {},
   "outputs": [],
   "source": []
  },
  {
   "cell_type": "code",
   "execution_count": null,
   "metadata": {
    "scrolled": true
   },
   "outputs": [],
   "source": [
    "ordered_features = clf_utils.get_nb_features(documents, labels)"
   ]
  },
  {
   "cell_type": "code",
   "execution_count": null,
   "metadata": {},
   "outputs": [],
   "source": [
    "for feature in ordered_features[0][:20]:\n",
    "    print(feature)"
   ]
  },
  {
   "cell_type": "code",
   "execution_count": null,
   "metadata": {},
   "outputs": [],
   "source": [
    "for feature in ordered_features[1][:20]:\n",
    "    print(feature)"
   ]
  },
  {
   "cell_type": "code",
   "execution_count": null,
   "metadata": {},
   "outputs": [],
   "source": [
    "for feature in ordered_features[2][:20]:\n",
    "    print(feature)"
   ]
  },
  {
   "cell_type": "code",
   "execution_count": null,
   "metadata": {},
   "outputs": [],
   "source": [
    "for feature in ordered_features[3][:20]:\n",
    "    print(feature)"
   ]
  },
  {
   "cell_type": "markdown",
   "metadata": {},
   "source": [
    "## Logistic Regression"
   ]
  },
  {
   "cell_type": "code",
   "execution_count": null,
   "metadata": {
    "scrolled": true
   },
   "outputs": [],
   "source": [
    "all_metrics_lr_ovr = list()\n",
    "for _ in range(10):\n",
    "    metrics = clf_utils.cross_validate(documents, labels, clf_type='LR')\n",
    "    all_metrics_lr_ovr.append(metrics)"
   ]
  },
  {
   "cell_type": "code",
   "execution_count": null,
   "metadata": {
    "scrolled": true
   },
   "outputs": [],
   "source": [
    "print(\"Reject\")\n",
    "print(np.mean([np.mean([all_metrics_lr_ovr[idx2][idx]['0']['precision'] for idx in range(5)]) for idx2 in range(10)]))\n",
    "print(np.mean([np.mean([all_metrics_lr_ovr[idx2][idx]['0']['recall'] for idx in range(5)]) for idx2 in range(10)]))\n",
    "print(np.mean([np.mean([all_metrics_lr_ovr[idx2][idx]['0']['f1-score'] for idx in range(5)]) for idx2 in range(10)]))\n",
    "print(\"Accept\")\n",
    "print(np.mean([np.mean([all_metrics_lr_ovr[idx2][idx]['1']['precision'] for idx in range(5)]) for idx2 in range(10)]))\n",
    "print(np.mean([np.mean([all_metrics_lr_ovr[idx2][idx]['1']['recall'] for idx in range(5)]) for idx2 in range(10)]))\n",
    "print(np.mean([np.mean([all_metrics_lr_ovr[idx2][idx]['1']['f1-score'] for idx in range(5)]) for idx2 in range(10)]))\n",
    "print(\"Major Revision\")\n",
    "print(np.mean([np.mean([all_metrics_lr_ovr[idx2][idx]['2']['precision'] for idx in range(5)]) for idx2 in range(10)]))\n",
    "print(np.mean([np.mean([all_metrics_lr_ovr[idx2][idx]['2']['recall'] for idx in range(5)]) for idx2 in range(10)]))\n",
    "print(np.mean([np.mean([all_metrics_lr_ovr[idx2][idx]['2']['f1-score'] for idx in range(5)]) for idx2 in range(10)]))\n",
    "print(\"Minor Revision\")\n",
    "print(np.mean([np.mean([all_metrics_lr_ovr[idx2][idx]['3']['precision'] for idx in range(5)]) for idx2 in range(10)]))\n",
    "print(np.mean([np.mean([all_metrics_lr_ovr[idx2][idx]['3']['recall'] for idx in range(5)]) for idx2 in range(10)]))\n",
    "print(np.mean([np.mean([all_metrics_lr_ovr[idx2][idx]['3']['f1-score'] for idx in range(5)]) for idx2 in range(10)]))"
   ]
  },
  {
   "cell_type": "code",
   "execution_count": null,
   "metadata": {},
   "outputs": [],
   "source": [
    "\"\"\"\n",
    "These are features from One vs Rest\n",
    "\"\"\"\n",
    "ordered_features = clf_utils.get_lr_features(documents, labels, multi_class='ovr')"
   ]
  },
  {
   "cell_type": "code",
   "execution_count": null,
   "metadata": {},
   "outputs": [],
   "source": [
    "for feature in ordered_features[0][:20]:\n",
    "    print(feature)"
   ]
  },
  {
   "cell_type": "code",
   "execution_count": null,
   "metadata": {},
   "outputs": [],
   "source": [
    "for feature in ordered_features[1][:20]:\n",
    "    print(feature)"
   ]
  },
  {
   "cell_type": "code",
   "execution_count": null,
   "metadata": {},
   "outputs": [],
   "source": [
    "for feature in ordered_features[2][:20]:\n",
    "    print(feature)"
   ]
  },
  {
   "cell_type": "code",
   "execution_count": null,
   "metadata": {
    "scrolled": true
   },
   "outputs": [],
   "source": [
    "for feature in ordered_features[3][:20]:\n",
    "    print(feature)"
   ]
  },
  {
   "cell_type": "code",
   "execution_count": null,
   "metadata": {
    "scrolled": true
   },
   "outputs": [],
   "source": [
    "all_metrics_lr_mn = list()\n",
    "for _ in range(10):\n",
    "    metrics = clf_utils.cross_validate(documents, labels, clf_type='LR', multi_class='multinomial')\n",
    "    all_metrics_lr_mn.append(metrics)"
   ]
  },
  {
   "cell_type": "code",
   "execution_count": null,
   "metadata": {},
   "outputs": [],
   "source": [
    "print(\"Reject\")\n",
    "print(np.mean([np.mean([all_metrics_lr_mn[idx2][idx]['0']['precision'] for idx in range(5)]) for idx2 in range(10)]))\n",
    "print(np.mean([np.mean([all_metrics_lr_mn[idx2][idx]['0']['recall'] for idx in range(5)]) for idx2 in range(10)]))\n",
    "print(np.mean([np.mean([all_metrics_lr_mn[idx2][idx]['0']['f1-score'] for idx in range(5)]) for idx2 in range(10)]))\n",
    "print(\"Accept\")\n",
    "print(np.mean([np.mean([all_metrics_lr_mn[idx2][idx]['1']['precision'] for idx in range(5)]) for idx2 in range(10)]))\n",
    "print(np.mean([np.mean([all_metrics_lr_mn[idx2][idx]['1']['recall'] for idx in range(5)]) for idx2 in range(10)]))\n",
    "print(np.mean([np.mean([all_metrics_lr_mn[idx2][idx]['1']['f1-score'] for idx in range(5)]) for idx2 in range(10)]))\n",
    "print(\"Major Revision\")\n",
    "print(np.mean([np.mean([all_metrics_lr_mn[idx2][idx]['2']['precision'] for idx in range(5)]) for idx2 in range(10)]))\n",
    "print(np.mean([np.mean([all_metrics_lr_mn[idx2][idx]['2']['recall'] for idx in range(5)]) for idx2 in range(10)]))\n",
    "print(np.mean([np.mean([all_metrics_lr_mn[idx2][idx]['2']['f1-score'] for idx in range(5)]) for idx2 in range(10)]))\n",
    "print(\"Minor Revision\")\n",
    "print(np.mean([np.mean([all_metrics_lr_mn[idx2][idx]['3']['precision'] for idx in range(5)]) for idx2 in range(10)]))\n",
    "print(np.mean([np.mean([all_metrics_lr_mn[idx2][idx]['3']['recall'] for idx in range(5)]) for idx2 in range(10)]))\n",
    "print(np.mean([np.mean([all_metrics_lr_mn[idx2][idx]['3']['f1-score'] for idx in range(5)]) for idx2 in range(10)]))"
   ]
  },
  {
   "cell_type": "code",
   "execution_count": null,
   "metadata": {},
   "outputs": [],
   "source": [
    "\"\"\"\n",
    "These are features from Multinomial Logistic Regression\n",
    "\"\"\"\n",
    "ordered_features = clf_utils.get_lr_features(documents, labels, multi_class='multinomial')"
   ]
  },
  {
   "cell_type": "code",
   "execution_count": null,
   "metadata": {},
   "outputs": [],
   "source": [
    "for feature in ordered_features[0][:20]:\n",
    "    print(feature)"
   ]
  },
  {
   "cell_type": "code",
   "execution_count": null,
   "metadata": {},
   "outputs": [],
   "source": [
    "for feature in ordered_features[1][:20]:\n",
    "    print(feature)"
   ]
  },
  {
   "cell_type": "code",
   "execution_count": null,
   "metadata": {},
   "outputs": [],
   "source": [
    "for feature in ordered_features[2][:20]:\n",
    "    print(feature)"
   ]
  },
  {
   "cell_type": "code",
   "execution_count": null,
   "metadata": {},
   "outputs": [],
   "source": [
    "for feature in ordered_features[3][:20]:\n",
    "    print(feature)"
   ]
  },
  {
   "cell_type": "markdown",
   "metadata": {},
   "source": [
    "## Generating WordClouds"
   ]
  },
  {
   "cell_type": "code",
   "execution_count": null,
   "metadata": {},
   "outputs": [],
   "source": [
    "wordcloud = dict()\n",
    "wordcloud['Reject'] = WordCloud().generate(' '.join(data_by_revision['0']['Reject']))\n",
    "wordcloud['Accept'] = WordCloud().generate(' '.join(data_by_revision['0']['Accept']))\n",
    "wordcloud['Major Revision'] = WordCloud().generate(' '.join(data_by_revision['0']['Major Revision']))\n",
    "wordcloud['Minor Revision'] = WordCloud().generate(' '.join(data_by_revision['0']['Minor Revision']))"
   ]
  },
  {
   "cell_type": "code",
   "execution_count": null,
   "metadata": {},
   "outputs": [],
   "source": [
    "plt.imshow(wordcloud['Reject'], interpolation='bilinear')\n",
    "plt.axis('off')\n",
    "plt.show()"
   ]
  },
  {
   "cell_type": "code",
   "execution_count": null,
   "metadata": {},
   "outputs": [],
   "source": [
    "plt.imshow(wordcloud['Accept'], interpolation='bilinear')\n",
    "plt.axis('off')\n",
    "plt.show()"
   ]
  },
  {
   "cell_type": "code",
   "execution_count": null,
   "metadata": {},
   "outputs": [],
   "source": [
    "plt.imshow(wordcloud['Major Revision'], interpolation='bilinear')\n",
    "plt.axis('off')\n",
    "plt.show()"
   ]
  },
  {
   "cell_type": "code",
   "execution_count": null,
   "metadata": {},
   "outputs": [],
   "source": [
    "plt.imshow(wordcloud['Minor Revision'], interpolation='bilinear')\n",
    "plt.axis('off')\n",
    "plt.show()"
   ]
  },
  {
   "cell_type": "markdown",
   "metadata": {},
   "source": [
    "## Univariate Correlation"
   ]
  },
  {
   "cell_type": "code",
   "execution_count": null,
   "metadata": {},
   "outputs": [],
   "source": [
    "count_vectorizer = CountVectorizer(tokenizer=clf_utils.tokenizer)\n",
    "count_vectorizer.fit(documents)"
   ]
  },
  {
   "cell_type": "code",
   "execution_count": null,
   "metadata": {},
   "outputs": [],
   "source": [
    "document_features = count_vectorizer.transform(documents).toarray()"
   ]
  },
  {
   "cell_type": "code",
   "execution_count": null,
   "metadata": {
    "scrolled": true
   },
   "outputs": [],
   "source": [
    "boolean_reject = np.array(labels) == np.array([0]*len(labels))\n",
    "int_reject = np.array([int(value) for value in boolean_reject])\n",
    "boolean_accept = np.array(labels) == np.array([1]*len(labels))\n",
    "int_accept = np.array([int(value) for value in boolean_accept])\n",
    "boolean_major = np.array(labels) == np.array([2]*len(labels))\n",
    "int_major = np.array([int(value) for value in boolean_major])\n",
    "boolean_minor = np.array(labels) == np.array([3]*len(labels))\n",
    "int_minor = np.array([int(value) for value in boolean_minor])"
   ]
  },
  {
   "cell_type": "code",
   "execution_count": null,
   "metadata": {},
   "outputs": [],
   "source": [
    "document_features.shape"
   ]
  },
  {
   "cell_type": "code",
   "execution_count": null,
   "metadata": {
    "scrolled": false
   },
   "outputs": [],
   "source": [
    "feature_names = count_vectorizer.get_feature_names()\n",
    "correlations_reject = [np.corrcoef(document_features[:,idx], int_reject)[0][1] for idx in range(len(feature_names))]\n",
    "correlations_accept = [np.corrcoef(document_features[:,idx], int_accept)[0][1] for idx in range(len(feature_names))]\n",
    "correlations_major = [np.corrcoef(document_features[:,idx], int_major)[0][1] for idx in range(len(feature_names))]\n",
    "correlations_minor = [np.corrcoef(document_features[:,idx], int_minor)[0][1] for idx in range(len(feature_names))]"
   ]
  },
  {
   "cell_type": "code",
   "execution_count": null,
   "metadata": {},
   "outputs": [],
   "source": [
    "sorted_feature_names_reject = [feature_names[idx] for idx in np.argsort(correlations_reject)][::-1]\n",
    "sorted_feature_names_accept = [feature_names[idx] for idx in np.argsort(correlations_accept)][::-1]\n",
    "sorted_feature_names_major = [feature_names[idx] for idx in np.argsort(correlations_major)][::-1]\n",
    "sorted_feature_names_minor = [feature_names[idx] for idx in np.argsort(correlations_minor)][::-1]\n",
    "sorted_correlations_reject = np.sort(correlations_reject)[::-1]\n",
    "sorted_correlations_accept = np.sort(correlations_accept)[::-1]\n",
    "sorted_correlations_major = np.sort(correlations_major)[::-1]\n",
    "sorted_correlations_minor = np.sort(correlations_minor)[::-1]"
   ]
  },
  {
   "cell_type": "code",
   "execution_count": null,
   "metadata": {
    "scrolled": false
   },
   "outputs": [],
   "source": [
    "for idx, feature in enumerate(sorted_feature_names_reject[:20]):\n",
    "    print(feature, sorted_correlations_reject[idx])"
   ]
  },
  {
   "cell_type": "code",
   "execution_count": null,
   "metadata": {},
   "outputs": [],
   "source": [
    "for idx, feature in enumerate(sorted_feature_names_accept[:20]):\n",
    "    print(feature, sorted_correlations_accept[idx])"
   ]
  },
  {
   "cell_type": "code",
   "execution_count": null,
   "metadata": {},
   "outputs": [],
   "source": [
    "for idx, feature in enumerate(sorted_feature_names_major[:20]):\n",
    "    print(feature, sorted_correlations_major[idx])"
   ]
  },
  {
   "cell_type": "code",
   "execution_count": null,
   "metadata": {},
   "outputs": [],
   "source": [
    "for idx, feature in enumerate(sorted_feature_names_minor[:20]):\n",
    "    print(feature, sorted_correlations_minor[idx])"
   ]
  },
  {
   "cell_type": "markdown",
   "metadata": {},
   "source": [
    "## Sanity Check"
   ]
  },
  {
   "cell_type": "code",
   "execution_count": null,
   "metadata": {},
   "outputs": [],
   "source": [
    "marked_ids = list()\n",
    "for idx, document in tqdm(enumerate(documents)):\n",
    "    flag = 0\n",
    "    for token in nlp_light(document):\n",
    "        if(token.text == 'co2-sensing'):\n",
    "            flag = 1\n",
    "            break\n",
    "    if(flag == 1):\n",
    "        marked_ids.append(idx)"
   ]
  },
  {
   "cell_type": "code",
   "execution_count": null,
   "metadata": {},
   "outputs": [],
   "source": [
    "marked_ids"
   ]
  },
  {
   "cell_type": "code",
   "execution_count": null,
   "metadata": {
    "scrolled": true
   },
   "outputs": [],
   "source": [
    "counter = Counter()\n",
    "for idx in marked_ids:\n",
    "    for token in nlp_light(documents[idx]):\n",
    "        if(token.text == 'co2-sensing'):\n",
    "            counter[idx] += 1"
   ]
  },
  {
   "cell_type": "code",
   "execution_count": null,
   "metadata": {},
   "outputs": [],
   "source": [
    "counter"
   ]
  },
  {
   "cell_type": "code",
   "execution_count": null,
   "metadata": {},
   "outputs": [],
   "source": [
    "labels[3638]"
   ]
  },
  {
   "cell_type": "code",
   "execution_count": null,
   "metadata": {},
   "outputs": [],
   "source": [
    "sum(boolean_accept)"
   ]
  },
  {
   "cell_type": "code",
   "execution_count": null,
   "metadata": {},
   "outputs": [],
   "source": [
    "sum(int_accept)"
   ]
  },
  {
   "cell_type": "code",
   "execution_count": null,
   "metadata": {},
   "outputs": [],
   "source": [
    "max(correlations_accept)"
   ]
  },
  {
   "cell_type": "markdown",
   "metadata": {},
   "source": [
    "## Sampling Reviews"
   ]
  },
  {
   "cell_type": "code",
   "execution_count": null,
   "metadata": {},
   "outputs": [],
   "source": [
    "selected_decisions = list()\n",
    "selected_reviews = list()"
   ]
  },
  {
   "cell_type": "code",
   "execution_count": null,
   "metadata": {},
   "outputs": [],
   "source": [
    "decisions = ['Reject', 'Accept', 'Minor Revision', 'Major Revision']\n",
    "decision = random.choice(decisions)\n",
    "selected_decisions.append(decision)\n",
    "review = np.random.choice(data_by_revision['0'][decision])\n",
    "selected_reviews.append(review)"
   ]
  },
  {
   "cell_type": "code",
   "execution_count": null,
   "metadata": {
    "scrolled": true
   },
   "outputs": [],
   "source": [
    "review"
   ]
  },
  {
   "cell_type": "code",
   "execution_count": null,
   "metadata": {
    "scrolled": true
   },
   "outputs": [],
   "source": [
    "ind=9\n",
    "print(selected_decisions[ind])\n",
    "selected_reviews[ind]"
   ]
  },
  {
   "cell_type": "code",
   "execution_count": null,
   "metadata": {},
   "outputs": [],
   "source": [
    "selected_decisions[10:]"
   ]
  },
  {
   "cell_type": "markdown",
   "metadata": {},
   "source": [
    "## Better Feature Selection"
   ]
  },
  {
   "cell_type": "code",
   "execution_count": 6,
   "metadata": {},
   "outputs": [],
   "source": [
    "all_metrics = dict()\n",
    "all_metrics['NB'] = dict()\n",
    "all_metrics['LR'] = dict()\n",
    "all_metrics['RF'] = dict()"
   ]
  },
  {
   "cell_type": "code",
   "execution_count": 10,
   "metadata": {
    "scrolled": true
   },
   "outputs": [
    {
     "name": "stderr",
     "output_type": "stream",
     "text": [
      "\n",
      "\n",
      "\n",
      "  0%|          | 0/5 [00:00<?, ?it/s]\u001b[A\u001b[A\u001b[A/Users/sohamp/miniconda3/lib/python3.6/site-packages/sklearn/metrics/classification.py:1143: UndefinedMetricWarning: Precision and F-score are ill-defined and being set to 0.0 in labels with no predicted samples.\n",
      "  'precision', 'predicted', average, warn_for)\n",
      "\n",
      "\n",
      "\n",
      " 20%|██        | 1/5 [01:17<05:11, 77.93s/it]\u001b[A\u001b[A\u001b[A/Users/sohamp/miniconda3/lib/python3.6/site-packages/sklearn/metrics/classification.py:1143: UndefinedMetricWarning: Precision and F-score are ill-defined and being set to 0.0 in labels with no predicted samples.\n",
      "  'precision', 'predicted', average, warn_for)\n",
      "\n",
      "\n",
      "\n",
      " 40%|████      | 2/5 [02:49<04:05, 82.00s/it]\u001b[A\u001b[A\u001b[A/Users/sohamp/miniconda3/lib/python3.6/site-packages/sklearn/metrics/classification.py:1143: UndefinedMetricWarning: Precision and F-score are ill-defined and being set to 0.0 in labels with no predicted samples.\n",
      "  'precision', 'predicted', average, warn_for)\n",
      "\n",
      "\n",
      "\n",
      " 60%|██████    | 3/5 [04:44<03:03, 91.87s/it]\u001b[A\u001b[A\u001b[A/Users/sohamp/miniconda3/lib/python3.6/site-packages/sklearn/metrics/classification.py:1143: UndefinedMetricWarning: Precision and F-score are ill-defined and being set to 0.0 in labels with no predicted samples.\n",
      "  'precision', 'predicted', average, warn_for)\n",
      "\n",
      "\n",
      "\n",
      " 80%|████████  | 4/5 [06:36<01:37, 97.95s/it]\u001b[A\u001b[A\u001b[A/Users/sohamp/miniconda3/lib/python3.6/site-packages/sklearn/metrics/classification.py:1143: UndefinedMetricWarning: Precision and F-score are ill-defined and being set to 0.0 in labels with no predicted samples.\n",
      "  'precision', 'predicted', average, warn_for)\n",
      "\n",
      "\n",
      "\n",
      "100%|██████████| 5/5 [08:29<00:00, 102.51s/it]\u001b[A\u001b[A\u001b[A\n",
      "\n",
      "\n",
      "  0%|          | 0/5 [00:00<?, ?it/s]\u001b[A\u001b[A\u001b[A/Users/sohamp/miniconda3/lib/python3.6/site-packages/sklearn/metrics/classification.py:1143: UndefinedMetricWarning: Precision and F-score are ill-defined and being set to 0.0 in labels with no predicted samples.\n",
      "  'precision', 'predicted', average, warn_for)\n",
      "\n",
      "\n",
      "\n",
      " 20%|██        | 1/5 [01:51<07:26, 111.73s/it]\u001b[A\u001b[A\u001b[A/Users/sohamp/miniconda3/lib/python3.6/site-packages/sklearn/metrics/classification.py:1143: UndefinedMetricWarning: Precision and F-score are ill-defined and being set to 0.0 in labels with no predicted samples.\n",
      "  'precision', 'predicted', average, warn_for)\n",
      "\n",
      "\n",
      "\n",
      " 40%|████      | 2/5 [04:00<05:50, 116.81s/it]\u001b[A\u001b[A\u001b[A/Users/sohamp/miniconda3/lib/python3.6/site-packages/sklearn/metrics/classification.py:1143: UndefinedMetricWarning: Precision and F-score are ill-defined and being set to 0.0 in labels with no predicted samples.\n",
      "  'precision', 'predicted', average, warn_for)\n",
      "\n",
      "\n",
      "\n",
      " 60%|██████    | 3/5 [05:47<03:47, 113.82s/it]\u001b[A\u001b[A\u001b[A/Users/sohamp/miniconda3/lib/python3.6/site-packages/sklearn/metrics/classification.py:1143: UndefinedMetricWarning: Precision and F-score are ill-defined and being set to 0.0 in labels with no predicted samples.\n",
      "  'precision', 'predicted', average, warn_for)\n",
      "\n",
      "\n",
      "\n",
      " 80%|████████  | 4/5 [07:33<01:51, 111.45s/it]\u001b[A\u001b[A\u001b[A/Users/sohamp/miniconda3/lib/python3.6/site-packages/sklearn/metrics/classification.py:1143: UndefinedMetricWarning: Precision and F-score are ill-defined and being set to 0.0 in labels with no predicted samples.\n",
      "  'precision', 'predicted', average, warn_for)\n",
      "\n",
      "\n",
      "\n",
      "100%|██████████| 5/5 [09:15<00:00, 108.65s/it]\u001b[A\u001b[A\u001b[A\n",
      "\n",
      "\n",
      "  0%|          | 0/5 [00:00<?, ?it/s]\u001b[A\u001b[A\u001b[A/Users/sohamp/miniconda3/lib/python3.6/site-packages/sklearn/metrics/classification.py:1143: UndefinedMetricWarning: Precision and F-score are ill-defined and being set to 0.0 in labels with no predicted samples.\n",
      "  'precision', 'predicted', average, warn_for)\n",
      "\n",
      "\n",
      "\n",
      " 20%|██        | 1/5 [01:47<07:08, 107.10s/it]\u001b[A\u001b[A\u001b[A/Users/sohamp/miniconda3/lib/python3.6/site-packages/sklearn/metrics/classification.py:1143: UndefinedMetricWarning: Precision and F-score are ill-defined and being set to 0.0 in labels with no predicted samples.\n",
      "  'precision', 'predicted', average, warn_for)\n",
      "\n",
      "\n",
      "\n",
      " 40%|████      | 2/5 [03:30<05:17, 105.95s/it]\u001b[A\u001b[A\u001b[A/Users/sohamp/miniconda3/lib/python3.6/site-packages/sklearn/metrics/classification.py:1143: UndefinedMetricWarning: Precision and F-score are ill-defined and being set to 0.0 in labels with no predicted samples.\n",
      "  'precision', 'predicted', average, warn_for)\n",
      "\n",
      "\n",
      "\n",
      " 60%|██████    | 3/5 [05:16<03:31, 105.89s/it]\u001b[A\u001b[A\u001b[A/Users/sohamp/miniconda3/lib/python3.6/site-packages/sklearn/metrics/classification.py:1143: UndefinedMetricWarning: Precision and F-score are ill-defined and being set to 0.0 in labels with no predicted samples.\n",
      "  'precision', 'predicted', average, warn_for)\n",
      "\n",
      "\n",
      "\n",
      " 80%|████████  | 4/5 [07:02<01:46, 106.16s/it]\u001b[A\u001b[A\u001b[A/Users/sohamp/miniconda3/lib/python3.6/site-packages/sklearn/metrics/classification.py:1143: UndefinedMetricWarning: Precision and F-score are ill-defined and being set to 0.0 in labels with no predicted samples.\n",
      "  'precision', 'predicted', average, warn_for)\n",
      "\n",
      "\n",
      "\n",
      "100%|██████████| 5/5 [08:35<00:00, 101.96s/it]\u001b[A\u001b[A\u001b[A\n",
      "\n",
      "\n",
      "  0%|          | 0/5 [00:00<?, ?it/s]\u001b[A\u001b[A\u001b[A/Users/sohamp/miniconda3/lib/python3.6/site-packages/sklearn/metrics/classification.py:1143: UndefinedMetricWarning: Precision and F-score are ill-defined and being set to 0.0 in labels with no predicted samples.\n",
      "  'precision', 'predicted', average, warn_for)\n",
      "\n",
      "\n",
      "\n",
      " 20%|██        | 1/5 [01:34<06:18, 94.75s/it]\u001b[A\u001b[A\u001b[A/Users/sohamp/miniconda3/lib/python3.6/site-packages/sklearn/metrics/classification.py:1143: UndefinedMetricWarning: Precision and F-score are ill-defined and being set to 0.0 in labels with no predicted samples.\n",
      "  'precision', 'predicted', average, warn_for)\n",
      "\n",
      "\n",
      "\n",
      " 40%|████      | 2/5 [03:32<05:05, 101.80s/it]\u001b[A\u001b[A\u001b[A\n",
      "\n",
      "\n",
      " 60%|██████    | 3/5 [05:45<03:41, 110.86s/it]\u001b[A\u001b[A\u001b[A/Users/sohamp/miniconda3/lib/python3.6/site-packages/sklearn/metrics/classification.py:1143: UndefinedMetricWarning: Precision and F-score are ill-defined and being set to 0.0 in labels with no predicted samples.\n",
      "  'precision', 'predicted', average, warn_for)\n",
      "\n",
      "\n",
      "\n",
      " 80%|████████  | 4/5 [08:07<02:00, 120.48s/it]\u001b[A\u001b[A\u001b[A/Users/sohamp/miniconda3/lib/python3.6/site-packages/sklearn/metrics/classification.py:1143: UndefinedMetricWarning: Precision and F-score are ill-defined and being set to 0.0 in labels with no predicted samples.\n",
      "  'precision', 'predicted', average, warn_for)\n",
      "\n",
      "\n",
      "\n",
      "100%|██████████| 5/5 [10:23<00:00, 124.93s/it]\u001b[A\u001b[A\u001b[A\n",
      "\n",
      "\n",
      "  0%|          | 0/5 [00:00<?, ?it/s]\u001b[A\u001b[A\u001b[A/Users/sohamp/miniconda3/lib/python3.6/site-packages/sklearn/metrics/classification.py:1143: UndefinedMetricWarning: Precision and F-score are ill-defined and being set to 0.0 in labels with no predicted samples.\n",
      "  'precision', 'predicted', average, warn_for)\n",
      "\n",
      "\n",
      "\n",
      " 20%|██        | 1/5 [02:24<09:37, 144.34s/it]\u001b[A\u001b[A\u001b[A/Users/sohamp/miniconda3/lib/python3.6/site-packages/sklearn/metrics/classification.py:1143: UndefinedMetricWarning: Precision and F-score are ill-defined and being set to 0.0 in labels with no predicted samples.\n",
      "  'precision', 'predicted', average, warn_for)\n",
      "\n",
      "\n",
      "\n",
      " 40%|████      | 2/5 [04:40<07:05, 141.94s/it]\u001b[A\u001b[A\u001b[A/Users/sohamp/miniconda3/lib/python3.6/site-packages/sklearn/metrics/classification.py:1143: UndefinedMetricWarning: Precision and F-score are ill-defined and being set to 0.0 in labels with no predicted samples.\n",
      "  'precision', 'predicted', average, warn_for)\n",
      "\n",
      "\n",
      "\n",
      " 60%|██████    | 3/5 [06:57<04:40, 140.28s/it]\u001b[A\u001b[A\u001b[A/Users/sohamp/miniconda3/lib/python3.6/site-packages/sklearn/metrics/classification.py:1143: UndefinedMetricWarning: Precision and F-score are ill-defined and being set to 0.0 in labels with no predicted samples.\n",
      "  'precision', 'predicted', average, warn_for)\n",
      "\n",
      "\n",
      "\n",
      " 80%|████████  | 4/5 [09:09<02:18, 138.02s/it]\u001b[A\u001b[A\u001b[A/Users/sohamp/miniconda3/lib/python3.6/site-packages/sklearn/metrics/classification.py:1143: UndefinedMetricWarning: Precision and F-score are ill-defined and being set to 0.0 in labels with no predicted samples.\n",
      "  'precision', 'predicted', average, warn_for)\n",
      "\n",
      "\n",
      "\n",
      "100%|██████████| 5/5 [11:32<00:00, 139.30s/it]\u001b[A\u001b[A\u001b[A\n",
      "\n",
      "\n",
      "  0%|          | 0/5 [00:00<?, ?it/s]\u001b[A\u001b[A\u001b[A/Users/sohamp/miniconda3/lib/python3.6/site-packages/sklearn/metrics/classification.py:1143: UndefinedMetricWarning: Precision and F-score are ill-defined and being set to 0.0 in labels with no predicted samples.\n",
      "  'precision', 'predicted', average, warn_for)\n",
      "\n",
      "\n",
      "\n"
     ]
    },
    {
     "name": "stderr",
     "output_type": "stream",
     "text": [
      " 20%|██        | 1/5 [02:16<09:05, 136.48s/it]\u001b[A\u001b[A\u001b[A/Users/sohamp/miniconda3/lib/python3.6/site-packages/sklearn/metrics/classification.py:1143: UndefinedMetricWarning: Precision and F-score are ill-defined and being set to 0.0 in labels with no predicted samples.\n",
      "  'precision', 'predicted', average, warn_for)\n",
      "\n",
      "\n",
      "\n",
      " 40%|████      | 2/5 [04:32<06:49, 136.46s/it]\u001b[A\u001b[A\u001b[A/Users/sohamp/miniconda3/lib/python3.6/site-packages/sklearn/metrics/classification.py:1143: UndefinedMetricWarning: Precision and F-score are ill-defined and being set to 0.0 in labels with no predicted samples.\n",
      "  'precision', 'predicted', average, warn_for)\n",
      "\n",
      "\n",
      "\n",
      " 60%|██████    | 3/5 [06:53<04:35, 137.78s/it]\u001b[A\u001b[A\u001b[A/Users/sohamp/miniconda3/lib/python3.6/site-packages/sklearn/metrics/classification.py:1143: UndefinedMetricWarning: Precision and F-score are ill-defined and being set to 0.0 in labels with no predicted samples.\n",
      "  'precision', 'predicted', average, warn_for)\n",
      "\n",
      "\n",
      "\n",
      " 80%|████████  | 4/5 [09:09<02:17, 137.08s/it]\u001b[A\u001b[A\u001b[A/Users/sohamp/miniconda3/lib/python3.6/site-packages/sklearn/metrics/classification.py:1143: UndefinedMetricWarning: Precision and F-score are ill-defined and being set to 0.0 in labels with no predicted samples.\n",
      "  'precision', 'predicted', average, warn_for)\n",
      "\n",
      "\n",
      "\n",
      "100%|██████████| 5/5 [11:22<00:00, 136.09s/it]\u001b[A\u001b[A\u001b[A\n",
      "\n",
      "\n",
      "  0%|          | 0/5 [00:00<?, ?it/s]\u001b[A\u001b[A\u001b[A/Users/sohamp/miniconda3/lib/python3.6/site-packages/sklearn/metrics/classification.py:1143: UndefinedMetricWarning: Precision and F-score are ill-defined and being set to 0.0 in labels with no predicted samples.\n",
      "  'precision', 'predicted', average, warn_for)\n",
      "\n",
      "\n",
      "\n",
      " 20%|██        | 1/5 [02:17<09:10, 137.60s/it]\u001b[A\u001b[A\u001b[A/Users/sohamp/miniconda3/lib/python3.6/site-packages/sklearn/metrics/classification.py:1143: UndefinedMetricWarning: Precision and F-score are ill-defined and being set to 0.0 in labels with no predicted samples.\n",
      "  'precision', 'predicted', average, warn_for)\n",
      "\n",
      "\n",
      "\n",
      " 40%|████      | 2/5 [04:38<06:55, 138.62s/it]\u001b[A\u001b[A\u001b[A/Users/sohamp/miniconda3/lib/python3.6/site-packages/sklearn/metrics/classification.py:1143: UndefinedMetricWarning: Precision and F-score are ill-defined and being set to 0.0 in labels with no predicted samples.\n",
      "  'precision', 'predicted', average, warn_for)\n",
      "\n",
      "\n",
      "\n",
      " 60%|██████    | 3/5 [06:49<04:32, 136.37s/it]\u001b[A\u001b[A\u001b[A/Users/sohamp/miniconda3/lib/python3.6/site-packages/sklearn/metrics/classification.py:1143: UndefinedMetricWarning: Precision and F-score are ill-defined and being set to 0.0 in labels with no predicted samples.\n",
      "  'precision', 'predicted', average, warn_for)\n",
      "\n",
      "\n",
      "\n",
      " 80%|████████  | 4/5 [09:00<02:14, 134.57s/it]\u001b[A\u001b[A\u001b[A/Users/sohamp/miniconda3/lib/python3.6/site-packages/sklearn/metrics/classification.py:1143: UndefinedMetricWarning: Precision and F-score are ill-defined and being set to 0.0 in labels with no predicted samples.\n",
      "  'precision', 'predicted', average, warn_for)\n",
      "\n",
      "\n",
      "\n",
      "100%|██████████| 5/5 [11:21<00:00, 136.62s/it]\u001b[A\u001b[A\u001b[A\n",
      "\n",
      "\n",
      "  0%|          | 0/5 [00:00<?, ?it/s]\u001b[A\u001b[A\u001b[A/Users/sohamp/miniconda3/lib/python3.6/site-packages/sklearn/metrics/classification.py:1143: UndefinedMetricWarning: Precision and F-score are ill-defined and being set to 0.0 in labels with no predicted samples.\n",
      "  'precision', 'predicted', average, warn_for)\n",
      "\n",
      "\n",
      "\n",
      " 20%|██        | 1/5 [02:14<08:59, 134.84s/it]\u001b[A\u001b[A\u001b[A/Users/sohamp/miniconda3/lib/python3.6/site-packages/sklearn/metrics/classification.py:1143: UndefinedMetricWarning: Precision and F-score are ill-defined and being set to 0.0 in labels with no predicted samples.\n",
      "  'precision', 'predicted', average, warn_for)\n",
      "\n",
      "\n",
      "\n",
      " 40%|████      | 2/5 [04:28<06:43, 134.59s/it]\u001b[A\u001b[A\u001b[A/Users/sohamp/miniconda3/lib/python3.6/site-packages/sklearn/metrics/classification.py:1143: UndefinedMetricWarning: Precision and F-score are ill-defined and being set to 0.0 in labels with no predicted samples.\n",
      "  'precision', 'predicted', average, warn_for)\n",
      "\n",
      "\n",
      "\n",
      " 60%|██████    | 3/5 [06:45<04:30, 135.27s/it]\u001b[A\u001b[A\u001b[A/Users/sohamp/miniconda3/lib/python3.6/site-packages/sklearn/metrics/classification.py:1143: UndefinedMetricWarning: Precision and F-score are ill-defined and being set to 0.0 in labels with no predicted samples.\n",
      "  'precision', 'predicted', average, warn_for)\n",
      "\n",
      "\n",
      "\n",
      " 80%|████████  | 4/5 [09:00<02:15, 135.09s/it]\u001b[A\u001b[A\u001b[A/Users/sohamp/miniconda3/lib/python3.6/site-packages/sklearn/metrics/classification.py:1143: UndefinedMetricWarning: Precision and F-score are ill-defined and being set to 0.0 in labels with no predicted samples.\n",
      "  'precision', 'predicted', average, warn_for)\n",
      "\n",
      "\n",
      "\n",
      "100%|██████████| 5/5 [11:12<00:00, 134.22s/it]\u001b[A\u001b[A\u001b[A\n",
      "\n",
      "\n",
      "  0%|          | 0/5 [00:00<?, ?it/s]\u001b[A\u001b[A\u001b[A/Users/sohamp/miniconda3/lib/python3.6/site-packages/sklearn/metrics/classification.py:1143: UndefinedMetricWarning: Precision and F-score are ill-defined and being set to 0.0 in labels with no predicted samples.\n",
      "  'precision', 'predicted', average, warn_for)\n",
      "\n",
      "\n",
      "\n",
      " 20%|██        | 1/5 [02:21<09:27, 141.94s/it]\u001b[A\u001b[A\u001b[A/Users/sohamp/miniconda3/lib/python3.6/site-packages/sklearn/metrics/classification.py:1143: UndefinedMetricWarning: Precision and F-score are ill-defined and being set to 0.0 in labels with no predicted samples.\n",
      "  'precision', 'predicted', average, warn_for)\n",
      "\n",
      "\n",
      "\n",
      " 40%|████      | 2/5 [04:38<07:00, 140.18s/it]\u001b[A\u001b[A\u001b[A/Users/sohamp/miniconda3/lib/python3.6/site-packages/sklearn/metrics/classification.py:1143: UndefinedMetricWarning: Precision and F-score are ill-defined and being set to 0.0 in labels with no predicted samples.\n",
      "  'precision', 'predicted', average, warn_for)\n",
      "\n",
      "\n",
      "\n",
      " 60%|██████    | 3/5 [06:45<04:32, 136.41s/it]\u001b[A\u001b[A\u001b[A/Users/sohamp/miniconda3/lib/python3.6/site-packages/sklearn/metrics/classification.py:1143: UndefinedMetricWarning: Precision and F-score are ill-defined and being set to 0.0 in labels with no predicted samples.\n",
      "  'precision', 'predicted', average, warn_for)\n",
      "\n",
      "\n",
      "\n",
      " 80%|████████  | 4/5 [09:06<02:17, 137.73s/it]\u001b[A\u001b[A\u001b[A/Users/sohamp/miniconda3/lib/python3.6/site-packages/sklearn/metrics/classification.py:1143: UndefinedMetricWarning: Precision and F-score are ill-defined and being set to 0.0 in labels with no predicted samples.\n",
      "  'precision', 'predicted', average, warn_for)\n",
      "\n",
      "\n",
      "\n",
      "100%|██████████| 5/5 [11:28<00:00, 138.92s/it]\u001b[A\u001b[A\u001b[A\n",
      "\n",
      "\n",
      "  0%|          | 0/5 [00:00<?, ?it/s]\u001b[A\u001b[A\u001b[A/Users/sohamp/miniconda3/lib/python3.6/site-packages/sklearn/metrics/classification.py:1143: UndefinedMetricWarning: Precision and F-score are ill-defined and being set to 0.0 in labels with no predicted samples.\n",
      "  'precision', 'predicted', average, warn_for)\n",
      "\n",
      "\n",
      "\n",
      " 20%|██        | 1/5 [02:10<08:42, 130.70s/it]\u001b[A\u001b[A\u001b[A/Users/sohamp/miniconda3/lib/python3.6/site-packages/sklearn/metrics/classification.py:1143: UndefinedMetricWarning: Precision and F-score are ill-defined and being set to 0.0 in labels with no predicted samples.\n",
      "  'precision', 'predicted', average, warn_for)\n",
      "\n",
      "\n",
      "\n",
      " 40%|████      | 2/5 [04:28<06:38, 132.88s/it]\u001b[A\u001b[A\u001b[A/Users/sohamp/miniconda3/lib/python3.6/site-packages/sklearn/metrics/classification.py:1143: UndefinedMetricWarning: Precision and F-score are ill-defined and being set to 0.0 in labels with no predicted samples.\n",
      "  'precision', 'predicted', average, warn_for)\n",
      "\n",
      "\n",
      "\n",
      " 60%|██████    | 3/5 [06:45<04:27, 133.94s/it]\u001b[A\u001b[A\u001b[A/Users/sohamp/miniconda3/lib/python3.6/site-packages/sklearn/metrics/classification.py:1143: UndefinedMetricWarning: Precision and F-score are ill-defined and being set to 0.0 in labels with no predicted samples.\n",
      "  'precision', 'predicted', average, warn_for)\n",
      "\n",
      "\n",
      "\n",
      " 80%|████████  | 4/5 [08:58<02:13, 133.91s/it]\u001b[A\u001b[A\u001b[A/Users/sohamp/miniconda3/lib/python3.6/site-packages/sklearn/metrics/classification.py:1143: UndefinedMetricWarning: Precision and F-score are ill-defined and being set to 0.0 in labels with no predicted samples.\n",
      "  'precision', 'predicted', average, warn_for)\n",
      "\n",
      "\n",
      "\n",
      "100%|██████████| 5/5 [11:16<00:00, 134.95s/it]\u001b[A\u001b[A\u001b[A"
     ]
    }
   ],
   "source": [
    "all_metrics['NB']['WC_FT'] = list()\n",
    "for _ in range(10):\n",
    "    metrics = clf_utils.cross_validate(documents, labels, clf_type='NB', features='count', \n",
    "                                      normalize=False, binary=True)\n",
    "    all_metrics['NB']['WC_FT'].append(metrics)"
   ]
  },
  {
   "cell_type": "code",
   "execution_count": 12,
   "metadata": {},
   "outputs": [
    {
     "name": "stdout",
     "output_type": "stream",
     "text": [
      "Reject\n",
      "0.6874210013650731\n",
      "0.07651122686875268\n",
      "0.13738767336372046\n",
      "Accept\n",
      "0.02\n",
      "0.00010050251256281409\n",
      "0.0002\n",
      "Major Revision\n",
      "0.4785800568513249\n",
      "0.8919340120056726\n",
      "0.6228274627078252\n",
      "Minor Revision\n",
      "0.5408129167252642\n",
      "0.36798823555132204\n",
      "0.4376968745521669\n"
     ]
    }
   ],
   "source": [
    "print(\"Reject\")\n",
    "print(np.mean([np.mean([all_metrics['NB']['WC_FT'][idx2][idx]['0']['precision'] for idx in range(5)]) for idx2 in range(10)]))\n",
    "print(np.mean([np.mean([all_metrics['NB']['WC_FT'][idx2][idx]['0']['recall'] for idx in range(5)]) for idx2 in range(10)]))\n",
    "print(np.mean([np.mean([all_metrics['NB']['WC_FT'][idx2][idx]['0']['f1-score'] for idx in range(5)]) for idx2 in range(10)]))\n",
    "print(\"Accept\")\n",
    "print(np.mean([np.mean([all_metrics['NB']['WC_FT'][idx2][idx]['1']['precision'] for idx in range(5)]) for idx2 in range(10)]))\n",
    "print(np.mean([np.mean([all_metrics['NB']['WC_FT'][idx2][idx]['1']['recall'] for idx in range(5)]) for idx2 in range(10)]))\n",
    "print(np.mean([np.mean([all_metrics['NB']['WC_FT'][idx2][idx]['1']['f1-score'] for idx in range(5)]) for idx2 in range(10)]))\n",
    "print(\"Major Revision\")\n",
    "print(np.mean([np.mean([all_metrics['NB']['WC_FT'][idx2][idx]['2']['precision'] for idx in range(5)]) for idx2 in range(10)]))\n",
    "print(np.mean([np.mean([all_metrics['NB']['WC_FT'][idx2][idx]['2']['recall'] for idx in range(5)]) for idx2 in range(10)]))\n",
    "print(np.mean([np.mean([all_metrics['NB']['WC_FT'][idx2][idx]['2']['f1-score'] for idx in range(5)]) for idx2 in range(10)]))\n",
    "print(\"Minor Revision\")\n",
    "print(np.mean([np.mean([all_metrics['NB']['WC_FT'][idx2][idx]['3']['precision'] for idx in range(5)]) for idx2 in range(10)]))\n",
    "print(np.mean([np.mean([all_metrics['NB']['WC_FT'][idx2][idx]['3']['recall'] for idx in range(5)]) for idx2 in range(10)]))\n",
    "print(np.mean([np.mean([all_metrics['NB']['WC_FT'][idx2][idx]['3']['f1-score'] for idx in range(5)]) for idx2 in range(10)]))"
   ]
  },
  {
   "cell_type": "markdown",
   "metadata": {},
   "source": [
    "## Random Forest"
   ]
  },
  {
   "cell_type": "code",
   "execution_count": 29,
   "metadata": {
    "scrolled": true
   },
   "outputs": [
    {
     "name": "stderr",
     "output_type": "stream",
     "text": [
      "/Users/sohamp/miniconda3/lib/python3.6/site-packages/sklearn/metrics/classification.py:1143: UndefinedMetricWarning: Precision and F-score are ill-defined and being set to 0.0 in labels with no predicted samples.\n",
      "  'precision', 'predicted', average, warn_for)\n",
      "/Users/sohamp/miniconda3/lib/python3.6/site-packages/sklearn/metrics/classification.py:1143: UndefinedMetricWarning: Precision and F-score are ill-defined and being set to 0.0 in labels with no predicted samples.\n",
      "  'precision', 'predicted', average, warn_for)\n",
      "/Users/sohamp/miniconda3/lib/python3.6/site-packages/sklearn/metrics/classification.py:1143: UndefinedMetricWarning: Precision and F-score are ill-defined and being set to 0.0 in labels with no predicted samples.\n",
      "  'precision', 'predicted', average, warn_for)\n",
      "/Users/sohamp/miniconda3/lib/python3.6/site-packages/sklearn/metrics/classification.py:1143: UndefinedMetricWarning: Precision and F-score are ill-defined and being set to 0.0 in labels with no predicted samples.\n",
      "  'precision', 'predicted', average, warn_for)\n",
      "/Users/sohamp/miniconda3/lib/python3.6/site-packages/sklearn/metrics/classification.py:1143: UndefinedMetricWarning: Precision and F-score are ill-defined and being set to 0.0 in labels with no predicted samples.\n",
      "  'precision', 'predicted', average, warn_for)\n"
     ]
    }
   ],
   "source": [
    "metrics = clf_utils.cross_validate(documents, labels, clf_type='RF', features='count', \n",
    "                                  normalize=False, binary=False, n_estimators=100, max_depth=2)"
   ]
  },
  {
   "cell_type": "code",
   "execution_count": 140,
   "metadata": {
    "scrolled": true
   },
   "outputs": [],
   "source": [
    "vectorizer = CountVectorizer(tokenizer=clf_utils.tokenizer)\n",
    "vectorizer.fit(documents, labels)\n",
    "x_train = vectorizer.transform(documents)"
   ]
  },
  {
   "cell_type": "code",
   "execution_count": 49,
   "metadata": {
    "scrolled": true
   },
   "outputs": [
    {
     "data": {
      "application/vnd.jupyter.widget-view+json": {
       "model_id": "41e10a8472294084b17d87e7df687a69",
       "version_major": 2,
       "version_minor": 0
      },
      "text/plain": [
       "HBox(children=(IntProgress(value=0, max=8), HTML(value='')))"
      ]
     },
     "metadata": {},
     "output_type": "display_data"
    },
    {
     "name": "stdout",
     "output_type": "stream",
     "text": [
      "\n"
     ]
    }
   ],
   "source": [
    "import warnings\n",
    "warnings.filterwarnings('ignore')\n",
    "n_estimators = [5,10,20,50,100,200,500,1000]\n",
    "max_depth = [2,4,8,16,32,64,128,256,512]\n",
    "all_metrics = dict()\n",
    "for n_estimator in tqdm(n_estimators):\n",
    "    all_metrics[n_estimator] = dict()\n",
    "    for depth in max_depth:\n",
    "        clf = RandomForestClassifier(n_estimators=n_estimator, max_depth=depth)\n",
    "        clf.fit(x_train, labels)\n",
    "        y_predicted = clf.predict(x_train)\n",
    "        metrics = classification_report(labels, y_predicted, output_dict=True)\n",
    "        metrics['accuracy'] = accuracy_score(labels, y_predicted)\n",
    "        all_metrics[n_estimator][depth] = metrics"
   ]
  },
  {
   "cell_type": "code",
   "execution_count": 159,
   "metadata": {
    "scrolled": true
   },
   "outputs": [
    {
     "data": {
      "text/plain": [
       "RandomForestClassifier(bootstrap=True, class_weight=None, criterion='gini',\n",
       "            max_depth=128, max_features='auto', max_leaf_nodes=None,\n",
       "            min_impurity_decrease=0.0, min_impurity_split=None,\n",
       "            min_samples_leaf=1, min_samples_split=2,\n",
       "            min_weight_fraction_leaf=0.0, n_estimators=50, n_jobs=None,\n",
       "            oob_score=False, random_state=None, verbose=0,\n",
       "            warm_start=False)"
      ]
     },
     "execution_count": 159,
     "metadata": {},
     "output_type": "execute_result"
    }
   ],
   "source": [
    "clf = RandomForestClassifier(n_estimators=50, max_depth=128)\n",
    "clf.fit(x_train, labels)"
   ]
  },
  {
   "cell_type": "code",
   "execution_count": 179,
   "metadata": {
    "scrolled": true
   },
   "outputs": [],
   "source": [
    "import csv\n",
    "n_estimators = 50\n",
    "max_depth = 16\n",
    "clf = RandomForestClassifier(n_estimators=n_estimators, max_depth=max_depth)\n",
    "clf.fit(x_train, labels)\n",
    "feature_names = vectorizer.get_feature_names()\n",
    "feature_importances = clf.feature_importances_\n",
    "sorted_indices = np.argsort(feature_importances)[::-1]\n",
    "important_features = list()\n",
    "for idx in sorted_indices:\n",
    "    if(feature_importances[idx] > 0):\n",
    "        important_features.append(feature_names[idx])\n",
    "with open('../outputs/words_rf_' + str(n_estimators) + '_' + str(max_depth)+'.csv', 'w') as f:\n",
    "    writer = csv.writer(f)\n",
    "    for feature in important_features:\n",
    "        if(feature not in STOP_WORDS):\n",
    "            writer.writerow([feature, all_token_counts[feature], all_doc_counts[feature]])"
   ]
  },
  {
   "cell_type": "code",
   "execution_count": 163,
   "metadata": {},
   "outputs": [],
   "source": [
    "from sklearn import tree\n",
    "tree.export_graphviz(clf.estimators_[0], out_file=open('../outputs/dt_1.dot', 'w'), feature_names= feature_names)"
   ]
  },
  {
   "cell_type": "code",
   "execution_count": 213,
   "metadata": {},
   "outputs": [],
   "source": [
    "\"\"\"\n",
    "Using the results from grid search\n",
    "\"\"\"\n",
    "with open('../outputs/rf_metrics.json') as f:\n",
    "    all_metrics = json.load(f)"
   ]
  },
  {
   "cell_type": "code",
   "execution_count": 246,
   "metadata": {},
   "outputs": [
    {
     "name": "stdout",
     "output_type": "stream",
     "text": [
      "0.3680545365837379\n",
      "0.4402083732262117\n"
     ]
    }
   ],
   "source": [
    "print(np.mean([metric['macro avg']['f1-score'] for metric in all_metrics['50']['128']]))\n",
    "print(np.mean([metric['weighted avg']['f1-score'] for metric in all_metrics['50']['128']]))"
   ]
  },
  {
   "cell_type": "code",
   "execution_count": 214,
   "metadata": {
    "scrolled": true
   },
   "outputs": [],
   "source": [
    "summary_metrics = dict()\n",
    "for n_estimators in all_metrics:\n",
    "    summary_metrics[n_estimators] = dict()\n",
    "    for depth in all_metrics[n_estimators]:\n",
    "        summary_metrics[n_estimators][depth] = dict()\n",
    "        summary_metrics[n_estimators][depth]['0'] = dict()\n",
    "        summary_metrics[n_estimators][depth]['1'] = dict()\n",
    "        summary_metrics[n_estimators][depth]['2'] = dict()\n",
    "        summary_metrics[n_estimators][depth]['3'] = dict()\n",
    "        summary_metrics[n_estimators][depth]['accuracy'] = np.mean([x['accuracy'] \n",
    "                                                                    for x in all_metrics[n_estimators][depth]])\n",
    "        for label in ['0', '1', '2', '3']:\n",
    "            summary_metrics[n_estimators][depth][label]['precision'] = np.mean([x[label]['precision']\n",
    "                                                                             for x in all_metrics[n_estimators][depth]])\n",
    "            summary_metrics[n_estimators][depth][label]['f1-score'] = np.mean([x[label]['f1-score']\n",
    "                                                                             for x in all_metrics[n_estimators][depth]])\n",
    "            summary_metrics[n_estimators][depth][label]['recall'] = np.mean([x[label]['recall']\n",
    "                                                                         for x in all_metrics[n_estimators][depth]])\n",
    "            \n",
    "            summary_metrics[n_estimators][depth]['accuracy'] = np.mean([x['accuracy']\n",
    "                                                                       for x in all_metrics[n_estimators][depth]])"
   ]
  },
  {
   "cell_type": "code",
   "execution_count": 218,
   "metadata": {},
   "outputs": [
    {
     "data": {
      "text/plain": [
       "{'precision': 0.5038400749120898,\n",
       " 'f1-score': 0.6166895864010865,\n",
       " 'recall': 0.7948500447344624}"
      ]
     },
     "execution_count": 218,
     "metadata": {},
     "output_type": "execute_result"
    }
   ],
   "source": [
    "summary_metrics['50']['128']['2']"
   ]
  },
  {
   "cell_type": "code",
   "execution_count": 114,
   "metadata": {},
   "outputs": [],
   "source": [
    "plots = dict()\n",
    "n_estimators = ['5','10','20','50']\n",
    "labels = ['0', '1', '2', '3']\n",
    "for x in n_estimators:\n",
    "    plots[x] = dict()\n",
    "    for label in labels:\n",
    "        plots[x][label] = dict()\n",
    "        plots[x][label]['precision'] = [summary_metrics[x][z][label]['precision'] for z in summary_metrics[x]]\n",
    "        plots[x][label]['f1-score'] = [summary_metrics[x][z][label]['f1-score'] for z in summary_metrics[x]]\n",
    "        plots[x][label]['recall'] = [summary_metrics[x][z][label]['recall'] for z in summary_metrics[x]]\n",
    "    plots[x]['accuracy'] = [summary_metrics[x][z]['accuracy'] for z in summary_metrics[x]]"
   ]
  },
  {
   "cell_type": "code",
   "execution_count": 180,
   "metadata": {},
   "outputs": [
    {
     "data": {
      "text/plain": [
       "<matplotlib.legend.Legend at 0x1a5a49ca58>"
      ]
     },
     "execution_count": 180,
     "metadata": {},
     "output_type": "execute_result"
    },
    {
     "data": {
      "image/png": "[encoded data removed]",
      "text/plain": [
       "<Figure size 432x288 with 1 Axes>"
      ]
     },
     "metadata": {
      "needs_background": "light"
     },
     "output_type": "display_data"
    }
   ],
   "source": [
    "x_axis = ['8','16','32','64','128']\n",
    "line1 = plt.plot(x_axis, plots['5']['0']['f1-score'], label='5 estimators')\n",
    "line2 = plt.plot(x_axis, plots['10']['0']['f1-score'], label='10 estimators')\n",
    "line3 = plt.plot(x_axis, plots['20']['0']['f1-score'], label='20 estimators')\n",
    "line4 = plt.plot(x_axis, plots['50']['0']['f1-score'], label='50 estimators')\n",
    "plt.title(\"F1-Score (Reject)\")\n",
    "plt.xlabel(\"Maximum depth of each tree\")\n",
    "plt.ylabel(\"F1-score\")\n",
    "plt.legend(loc='upper left')"
   ]
  },
  {
   "cell_type": "code",
   "execution_count": 118,
   "metadata": {},
   "outputs": [
    {
     "data": {
      "text/plain": [
       "<matplotlib.legend.Legend at 0x1a554f40f0>"
      ]
     },
     "execution_count": 118,
     "metadata": {},
     "output_type": "execute_result"
    },
    {
     "data": {
      "image/png": "[encoded data removed]",
      "text/plain": [
       "<Figure size 432x288 with 1 Axes>"
      ]
     },
     "metadata": {
      "needs_background": "light"
     },
     "output_type": "display_data"
    }
   ],
   "source": [
    "x_axis = ['8','16','32','64','128']\n",
    "line1 = plt.plot(x_axis, plots['5']['1']['f1-score'], label='5 estimators')\n",
    "line2 = plt.plot(x_axis, plots['10']['1']['f1-score'], label='10 estimators')\n",
    "line3 = plt.plot(x_axis, plots['20']['1']['f1-score'], label='20 estimators')\n",
    "line4 = plt.plot(x_axis, plots['50']['1']['f1-score'], label='50 estimators')\n",
    "plt.title(\"F1-Score (Accept)\")\n",
    "plt.xlabel(\"Maximum depth of each tree\")\n",
    "plt.ylabel(\"F1-score\")\n",
    "plt.legend(loc='upper left')"
   ]
  },
  {
   "cell_type": "code",
   "execution_count": 119,
   "metadata": {},
   "outputs": [
    {
     "data": {
      "text/plain": [
       "<matplotlib.legend.Legend at 0x1a5d1949e8>"
      ]
     },
     "execution_count": 119,
     "metadata": {},
     "output_type": "execute_result"
    },
    {
     "data": {
      "image/png": "[encoded data removed]",
      "text/plain": [
       "<Figure size 432x288 with 1 Axes>"
      ]
     },
     "metadata": {
      "needs_background": "light"
     },
     "output_type": "display_data"
    }
   ],
   "source": [
    "x_axis = ['8','16','32','64','128']\n",
    "line1 = plt.plot(x_axis, plots['5']['2']['f1-score'], label='5 estimators')\n",
    "line2 = plt.plot(x_axis, plots['10']['2']['f1-score'], label='10 estimators')\n",
    "line3 = plt.plot(x_axis, plots['20']['2']['f1-score'], label='20 estimators')\n",
    "line4 = plt.plot(x_axis, plots['50']['2']['f1-score'], label='50 estimators')\n",
    "plt.title(\"F1-Score (Major Revision)\")\n",
    "plt.xlabel(\"Maximum depth of each tree\")\n",
    "plt.ylabel(\"F1-score\")\n",
    "plt.legend(loc='upper left')"
   ]
  },
  {
   "cell_type": "code",
   "execution_count": 120,
   "metadata": {},
   "outputs": [
    {
     "data": {
      "text/plain": [
       "<matplotlib.legend.Legend at 0x1a5d201b70>"
      ]
     },
     "execution_count": 120,
     "metadata": {},
     "output_type": "execute_result"
    },
    {
     "data": {
      "image/png": "[encoded data removed]",
      "text/plain": [
       "<Figure size 432x288 with 1 Axes>"
      ]
     },
     "metadata": {
      "needs_background": "light"
     },
     "output_type": "display_data"
    }
   ],
   "source": [
    "x_axis = ['8','16','32','64','128']\n",
    "line1 = plt.plot(x_axis, plots['5']['3']['f1-score'], label='5 estimators')\n",
    "line2 = plt.plot(x_axis, plots['10']['3']['f1-score'], label='10 estimators')\n",
    "line3 = plt.plot(x_axis, plots['20']['3']['f1-score'], label='20 estimators')\n",
    "line4 = plt.plot(x_axis, plots['50']['3']['f1-score'], label='50 estimators')\n",
    "plt.title(\"F1-Score (Minor Revision)\")\n",
    "plt.xlabel(\"Maximum depth of each tree\")\n",
    "plt.ylabel(\"F1-score\")\n",
    "plt.legend(loc='upper left')"
   ]
  },
  {
   "cell_type": "code",
   "execution_count": 121,
   "metadata": {
    "scrolled": true
   },
   "outputs": [
    {
     "data": {
      "text/plain": [
       "<matplotlib.legend.Legend at 0x1a5d360fd0>"
      ]
     },
     "execution_count": 121,
     "metadata": {},
     "output_type": "execute_result"
    },
    {
     "data": {
      "image/png": "[encoded data removed]",
      "text/plain": [
       "<Figure size 432x288 with 1 Axes>"
      ]
     },
     "metadata": {
      "needs_background": "light"
     },
     "output_type": "display_data"
    }
   ],
   "source": [
    "x_axis = ['8','16','32','64','128']\n",
    "line1 = plt.plot(x_axis, plots['5']['accuracy'], label='5 estimators')\n",
    "line2 = plt.plot(x_axis, plots['10']['accuracy'], label='10 estimators')\n",
    "line3 = plt.plot(x_axis, plots['20']['accuracy'], label='20 estimators')\n",
    "line4 = plt.plot(x_axis, plots['50']['accuracy'], label='50 estimators')\n",
    "plt.title(\"Accuracy\")\n",
    "plt.xlabel(\"Maximum depth of each tree\")\n",
    "plt.ylabel(\"F1-score\")\n",
    "plt.legend(loc='upper left')"
   ]
  },
  {
   "cell_type": "code",
   "execution_count": 257,
   "metadata": {},
   "outputs": [],
   "source": [
    "with open('../outputs/large_forests2.json') as f:\n",
    "    lf_metrics = json.load(f)"
   ]
  },
  {
   "cell_type": "code",
   "execution_count": 261,
   "metadata": {},
   "outputs": [
    {
     "data": {
      "text/plain": [
       "[{'0': {'precision': 0.6666666666666666,\n",
       "   'recall': 0.003076923076923077,\n",
       "   'f1-score': 0.006125574272588055,\n",
       "   'support': 650},\n",
       "  '1': {'precision': 0.7123287671232876,\n",
       "   'recall': 0.25870646766169153,\n",
       "   'f1-score': 0.3795620437956204,\n",
       "   'support': 201},\n",
       "  '2': {'precision': 0.515681233933162,\n",
       "   'recall': 0.7966640190627482,\n",
       "   'f1-score': 0.6260923845193509,\n",
       "   'support': 1259},\n",
       "  '3': {'precision': 0.4892018779342723,\n",
       "   'recall': 0.5338114754098361,\n",
       "   'f1-score': 0.5105340519353259,\n",
       "   'support': 976},\n",
       "  'micro avg': {'precision': 0.5113415424497731,\n",
       "   'recall': 0.5113415424497731,\n",
       "   'f1-score': 0.5113415424497731,\n",
       "   'support': 3086},\n",
       "  'macro avg': {'precision': 0.5959696364143472,\n",
       "   'recall': 0.3980647213027997,\n",
       "   'f1-score': 0.3805785136307213,\n",
       "   'support': 3086},\n",
       "  'weighted avg': {'precision': 0.5519167601784882,\n",
       "   'recall': 0.5113415424497731,\n",
       "   'f1-score': 0.4429051007384455,\n",
       "   'support': 3086},\n",
       "  'accuracy': 0.5113415424497731},\n",
       " {'0': {'precision': 1.0,\n",
       "   'recall': 0.007898894154818325,\n",
       "   'f1-score': 0.01567398119122257,\n",
       "   'support': 633},\n",
       "  '1': {'precision': 0.6481481481481481,\n",
       "   'recall': 0.18716577540106952,\n",
       "   'f1-score': 0.29045643153526973,\n",
       "   'support': 187},\n",
       "  '2': {'precision': 0.5201816347124117,\n",
       "   'recall': 0.8092621664050236,\n",
       "   'f1-score': 0.6332923832923834,\n",
       "   'support': 1274},\n",
       "  '3': {'precision': 0.5152963671128107,\n",
       "   'recall': 0.5427995971802618,\n",
       "   'f1-score': 0.5286905345757724,\n",
       "   'support': 993},\n",
       "  'micro avg': {'precision': 0.5215419501133787,\n",
       "   'recall': 0.5215419501133787,\n",
       "   'f1-score': 0.5215419501133787,\n",
       "   'support': 3087},\n",
       "  'macro avg': {'precision': 0.6709065374933426,\n",
       "   'recall': 0.3867816082852933,\n",
       "   'f1-score': 0.367028332648662,\n",
       "   'support': 3087},\n",
       "  'weighted avg': {'precision': 0.6247503721640224,\n",
       "   'recall': 0.5215419501133787,\n",
       "   'f1-score': 0.45223232262370516,\n",
       "   'support': 3087},\n",
       "  'accuracy': 0.5215419501133787},\n",
       " {'0': {'precision': 1.0,\n",
       "   'recall': 0.0029411764705882353,\n",
       "   'f1-score': 0.005865102639296188,\n",
       "   'support': 680},\n",
       "  '1': {'precision': 0.5869565217391305,\n",
       "   'recall': 0.14754098360655737,\n",
       "   'f1-score': 0.23580786026200873,\n",
       "   'support': 183},\n",
       "  '2': {'precision': 0.5090024330900244,\n",
       "   'recall': 0.8401606425702811,\n",
       "   'f1-score': 0.6339393939393939,\n",
       "   'support': 1245},\n",
       "  '3': {'precision': 0.4888211382113821,\n",
       "   'recall': 0.491317671092952,\n",
       "   'f1-score': 0.49006622516556286,\n",
       "   'support': 979},\n",
       "  'micro avg': {'precision': 0.5040492387431162,\n",
       "   'recall': 0.5040492387431162,\n",
       "   'f1-score': 0.5040492387431162,\n",
       "   'support': 3087},\n",
       "  'macro avg': {'precision': 0.6461950232601342,\n",
       "   'recall': 0.3704901184350947,\n",
       "   'f1-score': 0.34141964550156545,\n",
       "   'support': 3087},\n",
       "  'weighted avg': {'precision': 0.6153796459294734,\n",
       "   'recall': 0.5040492387431162,\n",
       "   'f1-score': 0.42635908264149674,\n",
       "   'support': 3087},\n",
       "  'accuracy': 0.5040492387431162},\n",
       " {'0': {'precision': 1.0,\n",
       "   'recall': 0.004739336492890996,\n",
       "   'f1-score': 0.009433962264150945,\n",
       "   'support': 633},\n",
       "  '1': {'precision': 0.6229508196721312,\n",
       "   'recall': 0.19387755102040816,\n",
       "   'f1-score': 0.29571984435797666,\n",
       "   'support': 196},\n",
       "  '2': {'precision': 0.5106060606060606,\n",
       "   'recall': 0.8004750593824228,\n",
       "   'f1-score': 0.6234967622571693,\n",
       "   'support': 1263},\n",
       "  '3': {'precision': 0.47746883988494726,\n",
       "   'recall': 0.5005025125628141,\n",
       "   'f1-score': 0.48871442590775266,\n",
       "   'support': 995},\n",
       "  'micro avg': {'precision': 0.5021056041464205,\n",
       "   'recall': 0.5021056041464205,\n",
       "   'f1-score': 0.5021056041464205,\n",
       "   'support': 3087},\n",
       "  'macro avg': {'precision': 0.6527564300407848,\n",
       "   'recall': 0.37489861486463405,\n",
       "   'f1-score': 0.3543412486967624,\n",
       "   'support': 3087},\n",
       "  'weighted avg': {'precision': 0.6074102076082653,\n",
       "   'recall': 0.5021056041464205,\n",
       "   'f1-score': 0.4333268714338807,\n",
       "   'support': 3087},\n",
       "  'accuracy': 0.5021056041464205},\n",
       " {'0': {'precision': 1.0,\n",
       "   'recall': 0.004629629629629629,\n",
       "   'f1-score': 0.009216589861751152,\n",
       "   'support': 648},\n",
       "  '1': {'precision': 0.6923076923076923,\n",
       "   'recall': 0.1836734693877551,\n",
       "   'f1-score': 0.2903225806451613,\n",
       "   'support': 196},\n",
       "  '2': {'precision': 0.49637506041565976,\n",
       "   'recall': 0.8295638126009693,\n",
       "   'f1-score': 0.6211067432718477,\n",
       "   'support': 1238},\n",
       "  '3': {'precision': 0.4932502596053998,\n",
       "   'recall': 0.472636815920398,\n",
       "   'f1-score': 0.4827235772357724,\n",
       "   'support': 1005},\n",
       "  'micro avg': {'precision': 0.49919015225137675,\n",
       "   'recall': 0.49919015225137675,\n",
       "   'f1-score': 0.49919015225137675,\n",
       "   'support': 3087},\n",
       "  'macro avg': {'precision': 0.670483253082188,\n",
       "   'recall': 0.372625931884688,\n",
       "   'f1-score': 0.35084237275363317,\n",
       "   'support': 3087},\n",
       "  'weighted avg': {'precision': 0.6135151096178558,\n",
       "   'recall': 0.49919015225137675,\n",
       "   'f1-score': 0.42660930331369135,\n",
       "   'support': 3087},\n",
       "  'accuracy': 0.49919015225137675}]"
      ]
     },
     "execution_count": 261,
     "metadata": {},
     "output_type": "execute_result"
    }
   ],
   "source": [
    "lf_metrics['1000']['256']"
   ]
  },
  {
   "cell_type": "markdown",
   "metadata": {},
   "source": [
    "## Disagreement"
   ]
  },
  {
   "cell_type": "code",
   "execution_count": 175,
   "metadata": {
    "scrolled": true
   },
   "outputs": [],
   "source": [
    "num_decisions = 0\n",
    "num_combined_decisions = 0\n",
    "num_bad_reviews = 0\n",
    "num_good_reviews = 0\n",
    "agreements = dict()\n",
    "for doc_id in data:\n",
    "    if('revisions' in data[doc_id]):\n",
    "        if('0' in data[doc_id]['revisions']):\n",
    "            if('combined_decision' in data[doc_id]['revisions']['0']):\n",
    "                combined_decision = data[doc_id]['revisions']['0']['combined_decision']\n",
    "                if(combined_decision not in agreements):\n",
    "                    agreements[combined_decision] = Counter()\n",
    "                num_combined_decisions += 1\n",
    "                if('reviews' in data[doc_id]['revisions']['0']):\n",
    "                    for review in data[doc_id]['revisions']['0']['reviews']:\n",
    "                        if('decision' in data[doc_id]['revisions']['0']['reviews'][review]):\n",
    "                            decision = data[doc_id]['revisions']['0']['reviews'][review]['decision']\n",
    "                            if(decision):\n",
    "                                agreements[combined_decision][decision] += 1\n",
    "                                if(decision == combined_decision):\n",
    "                                    num_good_reviews += 1\n",
    "                                else:\n",
    "                                    num_bad_reviews += 1\n",
    "                                num_decisions += 1"
   ]
  },
  {
   "cell_type": "code",
   "execution_count": null,
   "metadata": {},
   "outputs": [],
   "source": []
  },
  {
   "cell_type": "markdown",
   "metadata": {},
   "source": [
    "## Extra Features Results"
   ]
  },
  {
   "cell_type": "code",
   "execution_count": 188,
   "metadata": {},
   "outputs": [],
   "source": [
    "classes = ['0','1','2','3']"
   ]
  },
  {
   "cell_type": "code",
   "execution_count": 219,
   "metadata": {},
   "outputs": [],
   "source": [
    "with open('../outputs/lr_metrics.json') as f:\n",
    "    lr_metrics = json.load(f)"
   ]
  },
  {
   "cell_type": "code",
   "execution_count": 224,
   "metadata": {},
   "outputs": [],
   "source": [
    "summarized_metrics = dict()\n",
    "for config in lr_metrics:\n",
    "    summarized_metrics[config] = dict()\n",
    "    for label in classes:\n",
    "        summarized_metrics[config][label] = dict()\n",
    "        summarized_metrics[config][label]['f1-score'] = np.mean([metric[label]['f1-score'] for metric in lr_metrics[config]])\n",
    "        summarized_metrics[config][label]['precision'] = np.mean([metric[label]['precision'] for metric in lr_metrics[config]])\n",
    "        summarized_metrics[config][label]['recall'] = np.mean([metric[label]['recall'] for metric in lr_metrics[config]])\n",
    "    summarized_metrics[config]['accuracy'] = np.mean([metric['accuracy'] for metric in lr_metrics[config]])\n",
    "    summarized_metrics[config]['macro'] = np.mean([metric['macro avg']['f1-score'] for metric in lr_metrics[config]])\n",
    "    summarized_metrics[config]['weighted'] = np.mean([metric['weighted avg']['f1-score'] for metric in lr_metrics[config]])"
   ]
  },
  {
   "cell_type": "code",
   "execution_count": 231,
   "metadata": {
    "scrolled": true
   },
   "outputs": [
    {
     "name": "stdout",
     "output_type": "stream",
     "text": [
      "0.15268673725760548\n",
      "0.24592474342177803\n"
     ]
    }
   ],
   "source": [
    "print(summarized_metrics['4']['macro'])\n",
    "print(summarized_metrics['4']['weighted'])"
   ]
  },
  {
   "cell_type": "code",
   "execution_count": 236,
   "metadata": {
    "scrolled": true
   },
   "outputs": [],
   "source": [
    "with open('../outputs/lr_multi_metrics.json') as f:\n",
    "    lr_metrics = json.load(f)"
   ]
  },
  {
   "cell_type": "code",
   "execution_count": 237,
   "metadata": {
    "scrolled": true
   },
   "outputs": [],
   "source": [
    "summarized_metrics = dict()\n",
    "for config in lr_metrics:\n",
    "    summarized_metrics[config] = dict()\n",
    "    for label in classes:\n",
    "        summarized_metrics[config][label] = dict()\n",
    "        summarized_metrics[config][label]['f1-score'] = np.mean([metric[label]['f1-score'] for metric in lr_metrics[config]])\n",
    "        summarized_metrics[config][label]['precision'] = np.mean([metric[label]['precision'] for metric in lr_metrics[config]])\n",
    "        summarized_metrics[config][label]['recall'] = np.mean([metric[label]['recall'] for metric in lr_metrics[config]])\n",
    "    summarized_metrics[config]['accuracy'] = np.mean([metric['accuracy'] for metric in lr_metrics[config]])\n",
    "    summarized_metrics[config]['macro'] = np.mean([metric['macro avg']['f1-score'] for metric in lr_metrics[config]])\n",
    "    summarized_metrics[config]['weighted'] = np.mean([metric['weighted avg']['f1-score'] for metric in lr_metrics[config]])"
   ]
  },
  {
   "cell_type": "code",
   "execution_count": 241,
   "metadata": {
    "scrolled": true
   },
   "outputs": [
    {
     "name": "stdout",
     "output_type": "stream",
     "text": [
      "0.17299004472383747\n",
      "0.2723933141734927\n"
     ]
    }
   ],
   "source": [
    "print(summarized_metrics['4']['macro'])\n",
    "print(summarized_metrics['4']['weighted'])"
   ]
  },
  {
   "cell_type": "markdown",
   "metadata": {},
   "source": [
    "## Class Balancing"
   ]
  },
  {
   "cell_type": "code",
   "execution_count": 264,
   "metadata": {},
   "outputs": [],
   "source": [
    "with open('../outputs/rf_ros_rus_metrics.pkl', 'rb') as f:\n",
    "    metrics = pkl.load(f)"
   ]
  },
  {
   "cell_type": "code",
   "execution_count": 267,
   "metadata": {},
   "outputs": [],
   "source": [
    "ros_metrics = dict()\n",
    "rus_metrics = dict()"
   ]
  },
  {
   "cell_type": "code",
   "execution_count": 279,
   "metadata": {},
   "outputs": [],
   "source": [
    "ros_metrics['accuracy'] = np.mean([metric['accuracy'] for metric in metrics[0]])\n",
    "rus_metrics['accuracy'] = np.mean([metric['accuracy'] for metric in metrics[1]])\n",
    "ros_metrics['macro_f1'] = np.mean([metric['macro avg']['f1-score'] for metric in metrics[0]])\n",
    "rus_metrics['macro_f1'] = np.mean([metric['macro avg']['f1-score'] for metric in metrics[1]])\n",
    "for label in classes:\n",
    "    ros_metrics[label] = dict()\n",
    "    rus_metrics[label] = dict()\n",
    "    ros_metrics[label]['f1-score'] = np.mean([metric[label]['f1-score'] for metric in metrics[0]])\n",
    "    rus_metrics[label]['f1-score'] = np.mean([metric[label]['f1-score'] for metric in metrics[1]])\n",
    "    ros_metrics[label]['precision'] = np.mean([metric[label]['precision'] for metric in metrics[0]])\n",
    "    rus_metrics[label]['precision'] = np.mean([metric[label]['precision'] for metric in metrics[1]])\n",
    "    ros_metrics[label]['recall'] = np.mean([metric[label]['recall'] for metric in metrics[0]])\n",
    "    rus_metrics[label]['recall'] = np.mean([metric[label]['recall'] for metric in metrics[1]])"
   ]
  },
  {
   "cell_type": "code",
   "execution_count": 280,
   "metadata": {},
   "outputs": [
    {
     "data": {
      "text/plain": [
       "{'accuracy': 0.5147065831856923,\n",
       " 'macro_f1': 0.4127207266161337,\n",
       " '0': {'f1-score': 0.4394525307867183,\n",
       "  'precision': 0.5472308303397507,\n",
       "  'recall': 0.3691120450946756},\n",
       " '1': {'f1-score': 0.524109253101488,\n",
       "  'precision': 0.4786865174396106,\n",
       "  'recall': 0.5798999821447186},\n",
       " '2': {'f1-score': 0.6161840616996901,\n",
       "  'precision': 0.5318572867263522,\n",
       "  'recall': 0.7327974062109364},\n",
       " '3': {'f1-score': 0.07113706087663825,\n",
       "  'precision': 0.9050589543937708,\n",
       "  'recall': 0.03704659956921087}}"
      ]
     },
     "execution_count": 280,
     "metadata": {},
     "output_type": "execute_result"
    }
   ],
   "source": [
    "ros_metrics"
   ]
  },
  {
   "cell_type": "code",
   "execution_count": 281,
   "metadata": {},
   "outputs": [
    {
     "data": {
      "text/plain": [
       "{'accuracy': 0.4518596266701601,\n",
       " 'macro_f1': 0.4226282314055574,\n",
       " '0': {'f1-score': 0.32235853085114535,\n",
       "  'precision': 0.20489411506063376,\n",
       "  'recall': 0.7559792180075624},\n",
       " '1': {'f1-score': 0.4179625398388918,\n",
       "  'precision': 0.49159302815820316,\n",
       "  'recall': 0.36378251389881416},\n",
       " '2': {'f1-score': 0.5469651401400655,\n",
       "  'precision': 0.5701960193374107,\n",
       "  'recall': 0.5261046577084124},\n",
       " '3': {'f1-score': 0.4032267147921268,\n",
       "  'precision': 0.47463402801921273,\n",
       "  'recall': 0.3528383655843573}}"
      ]
     },
     "execution_count": 281,
     "metadata": {},
     "output_type": "execute_result"
    }
   ],
   "source": [
    "rus_metrics"
   ]
  },
  {
   "cell_type": "code",
   "execution_count": null,
   "metadata": {},
   "outputs": [],
   "source": []
  }
 ],
 "metadata": {
  "kernelspec": {
   "display_name": "Python 3",
   "language": "python",
   "name": "python3"
  },
  "language_info": {
   "codemirror_mode": {
    "name": "ipython",
    "version": 3
   },
   "file_extension": ".py",
   "mimetype": "text/x-python",
   "name": "python",
   "nbconvert_exporter": "python",
   "pygments_lexer": "ipython3",
   "version": "3.6.8"
  }
 },
 "nbformat": 4,
 "nbformat_minor": 2
}
